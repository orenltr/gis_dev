{
 "cells": [
  {
   "cell_type": "code",
   "execution_count": 7,
   "metadata": {
    "pycharm": {
     "name": "#%%\n"
    }
   },
   "outputs": [],
   "source": []
  },
  {
   "cell_type": "markdown",
   "metadata": {},
   "source": [
    "### Section A"
   ]
  },
  {
   "cell_type": "code",
   "execution_count": 8,
   "metadata": {
    "pycharm": {
     "name": "#%%\n"
    }
   },
   "outputs": [],
   "source": [
    "import os\n",
    "import geopandas as gpd\n",
    "import numpy as np\n",
    "import pandas as pd\n",
    "from shapely.geometry import LineString, Point, Polygon\n",
    "from geopandas.tools import reverse_geocode\n",
    "import geopandas as gpd\n",
    "from geopandas.tools.geocoding import geocode"
   ]
  },
  {
   "cell_type": "markdown",
   "metadata": {
    "pycharm": {
     "name": "#%% md\n"
    }
   },
   "source": [
    "Task 1- reading data from csv file"
   ]
  },
  {
   "cell_type": "code",
   "execution_count": 9,
   "metadata": {
    "pycharm": {
     "name": "#%%\n"
    }
   },
   "outputs": [
    {
     "data": {
      "text/plain": "      from_x     from_y       to_x       to_y\n0  24.970438  60.311917  24.856034  60.399941\n1  24.970438  60.311917  24.860568  60.400014\n2  24.970438  60.311917  24.865102  60.400086\n3  24.970438  60.311917  24.869636  60.400159\n4  24.970438  60.311917  24.842582  60.397478",
      "text/html": "<div>\n<style scoped>\n    .dataframe tbody tr th:only-of-type {\n        vertical-align: middle;\n    }\n\n    .dataframe tbody tr th {\n        vertical-align: top;\n    }\n\n    .dataframe thead th {\n        text-align: right;\n    }\n</style>\n<table border=\"1\" class=\"dataframe\">\n  <thead>\n    <tr style=\"text-align: right;\">\n      <th></th>\n      <th>from_x</th>\n      <th>from_y</th>\n      <th>to_x</th>\n      <th>to_y</th>\n    </tr>\n  </thead>\n  <tbody>\n    <tr>\n      <td>0</td>\n      <td>24.970438</td>\n      <td>60.311917</td>\n      <td>24.856034</td>\n      <td>60.399941</td>\n    </tr>\n    <tr>\n      <td>1</td>\n      <td>24.970438</td>\n      <td>60.311917</td>\n      <td>24.860568</td>\n      <td>60.400014</td>\n    </tr>\n    <tr>\n      <td>2</td>\n      <td>24.970438</td>\n      <td>60.311917</td>\n      <td>24.865102</td>\n      <td>60.400086</td>\n    </tr>\n    <tr>\n      <td>3</td>\n      <td>24.970438</td>\n      <td>60.311917</td>\n      <td>24.869636</td>\n      <td>60.400159</td>\n    </tr>\n    <tr>\n      <td>4</td>\n      <td>24.970438</td>\n      <td>60.311917</td>\n      <td>24.842582</td>\n      <td>60.397478</td>\n    </tr>\n  </tbody>\n</table>\n</div>"
     },
     "execution_count": 9,
     "metadata": {},
     "output_type": "execute_result"
    }
   ],
   "source": [
    "file_path = r'C:\\Users\\Dell\\OneDrive - Technion\\טכניון\\סמסטר ז\\סדנא בפיתוח ממג\\code\\data\\travelTimes_2015_Helsinki.csv'\n",
    "col_list = [\"from_x\", \"from_y\", \"to_x\", \"to_y\"]\n",
    "data = pd.read_csv(file_path, usecols=col_list)\n",
    "data.head()\n"
   ]
  },
  {
   "cell_type": "markdown",
   "metadata": {
    "pycharm": {
     "name": "#%% md\n"
    }
   },
   "source": [
    "Task 2- create lists\n",
    "\n",
    "\n"
   ]
  },
  {
   "cell_type": "code",
   "execution_count": 10,
   "metadata": {
    "pycharm": {
     "name": "#%%\n"
    }
   },
   "outputs": [],
   "source": [
    "orig_points = []\n",
    "dest_points = []\n"
   ]
  },
  {
   "cell_type": "markdown",
   "metadata": {},
   "source": [
    "Task 3- populate lists with Shapely Points\n",
    "\n",
    "\n"
   ]
  },
  {
   "cell_type": "code",
   "execution_count": 11,
   "metadata": {
    "pycharm": {
     "name": "#%%\n"
    }
   },
   "outputs": [
    {
     "name": "stdout",
     "output_type": "stream",
     "text": [
      "24.9704379\n",
      "60.3119173\n"
     ]
    }
   ],
   "source": [
    "for index, row in data.iterrows() :\n",
    "    orig_points.append(Point(row['from_x'], row['from_y']))\n",
    "    dest_points.append(Point(row['to_x'], row['to_y']))\n",
    "print(orig_points[1].x)\n",
    "print(orig_points[1].y)"
   ]
  },
  {
   "cell_type": "markdown",
   "metadata": {
    "pycharm": {
     "name": "#%% md\n"
    }
   },
   "source": [
    "Task 4- create Shapely line objects and printing average length\n"
   ]
  },
  {
   "cell_type": "code",
   "execution_count": 12,
   "metadata": {
    "pycharm": {
     "name": "#%%\n"
    }
   },
   "outputs": [
    {
     "name": "stdout",
     "output_type": "stream",
     "text": [
      "average length is:  0.21502224823227184\n"
     ]
    }
   ],
   "source": [
    "lines = []\n",
    "\n",
    "for i in range(len(orig_points)) :\n",
    "    lines.append(LineString([orig_points[i], dest_points[i]]))\n",
    "\n",
    "avg_line = sum([line.length for line in lines]) / len(lines)\n",
    "print('average length is: ',avg_line)"
   ]
  },
  {
   "cell_type": "markdown",
   "metadata": {},
   "source": [
    "### Section B\n",
    "#### part 1:"
   ]
  },
  {
   "cell_type": "markdown",
   "metadata": {},
   "source": [
    "reading data from csv file\n"
   ]
  },
  {
   "cell_type": "code",
   "execution_count": 20,
   "metadata": {
    "pycharm": {
     "name": "#%%\n"
    }
   },
   "outputs": [
    {
     "name": "stdout",
     "output_type": "stream",
     "text": [
      "(81379, 5)\n"
     ]
    },
    {
     "data": {
      "text/plain": "         lat        lon  ...    userid                    geometry\n0 -24.980792  31.484633  ...  66487960  POINT (-25.49884 31.00743)\n1 -25.499225  31.508906  ...  65281761  POINT (-25.49884 31.00743)\n2 -24.342578  30.930866  ...  90916112  POINT (-25.49884 31.00743)\n3 -24.854614  31.519718  ...  37959089  POINT (-25.49884 31.00743)\n4 -24.921069  31.520836  ...  27793716  POINT (-25.49884 31.00743)\n\n[5 rows x 5 columns]",
      "text/html": "<div>\n<style scoped>\n    .dataframe tbody tr th:only-of-type {\n        vertical-align: middle;\n    }\n\n    .dataframe tbody tr th {\n        vertical-align: top;\n    }\n\n    .dataframe thead th {\n        text-align: right;\n    }\n</style>\n<table border=\"1\" class=\"dataframe\">\n  <thead>\n    <tr style=\"text-align: right;\">\n      <th></th>\n      <th>lat</th>\n      <th>lon</th>\n      <th>...</th>\n      <th>userid</th>\n      <th>geometry</th>\n    </tr>\n  </thead>\n  <tbody>\n    <tr>\n      <td>0</td>\n      <td>-24.980792</td>\n      <td>31.484633</td>\n      <td>...</td>\n      <td>66487960</td>\n      <td>POINT (-25.49884 31.00743)</td>\n    </tr>\n    <tr>\n      <td>1</td>\n      <td>-25.499225</td>\n      <td>31.508906</td>\n      <td>...</td>\n      <td>65281761</td>\n      <td>POINT (-25.49884 31.00743)</td>\n    </tr>\n    <tr>\n      <td>2</td>\n      <td>-24.342578</td>\n      <td>30.930866</td>\n      <td>...</td>\n      <td>90916112</td>\n      <td>POINT (-25.49884 31.00743)</td>\n    </tr>\n    <tr>\n      <td>3</td>\n      <td>-24.854614</td>\n      <td>31.519718</td>\n      <td>...</td>\n      <td>37959089</td>\n      <td>POINT (-25.49884 31.00743)</td>\n    </tr>\n    <tr>\n      <td>4</td>\n      <td>-24.921069</td>\n      <td>31.520836</td>\n      <td>...</td>\n      <td>27793716</td>\n      <td>POINT (-25.49884 31.00743)</td>\n    </tr>\n  </tbody>\n</table>\n<p>5 rows × 5 columns</p>\n</div>"
     },
     "execution_count": 20,
     "metadata": {},
     "output_type": "execute_result"
    }
   ],
   "source": [
    "file_path = r'C:\\Users\\Dell\\OneDrive - Technion\\טכניון\\סמסטר ז\\סדנא בפיתוח ממג\\code\\data\\some_posts.csv'\n",
    "df = pd.read_csv(file_path)\n",
    "\n",
    "\n",
    "# df['geometry'] = df.index\n",
    "\n",
    "for index, row in df.iterrows() :\n",
    "    geometry = Point(row['lat'], row['lon'])\n",
    "\n",
    "df['geometry'] = geometry\n",
    "print(df.shape)\n",
    "df.head()"
   ]
  },
  {
   "cell_type": "code",
   "execution_count": 13,
   "metadata": {
    "pycharm": {
     "name": "#%%\n"
    }
   },
   "outputs": [],
   "source": []
  }
 ],
 "metadata": {
  "kernelspec": {
   "display_name": "Python 3",
   "language": "python",
   "name": "python3"
  },
  "language_info": {
   "codemirror_mode": {
    "name": "ipython",
    "version": 3
   },
   "file_extension": ".py",
   "mimetype": "text/x-python",
   "name": "python",
   "nbconvert_exporter": "python",
   "pygments_lexer": "ipython3",
   "version": "3.7.4"
  }
 },
 "nbformat": 4,
 "nbformat_minor": 1
}