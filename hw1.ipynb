{
 "cells": [
  {
   "cell_type": "code",
   "execution_count": 0,
   "outputs": [],
   "source": [],
   "metadata": {
    "collapsed": false,
    "pycharm": {
     "name": "#%%\n"
    }
   }
  },
  {
   "cell_type": "markdown",
   "source": [
    "### Section A"
   ],
   "metadata": {
    "collapsed": false
   }
  },
  {
   "cell_type": "code",
   "execution_count": 1,
   "outputs": [],
   "source": [
    "import os\n",
    "import geopandas as gpd\n",
    "import numpy as np\n",
    "import pandas as pd\n",
    "from shapely.geometry import LineString, Point, Polygon\n",
    "from geopandas.tools import reverse_geocode\n",
    "import geopandas as gpd\n",
    "from geopandas.tools.geocoding import geocode"
   ],
   "metadata": {
    "collapsed": false,
    "pycharm": {
     "name": "#%%\n"
    }
   }
  },
  {
   "cell_type": "markdown",
   "source": [
    "Task 1- reading data from csv file"
   ],
   "metadata": {
    "collapsed": false,
    "pycharm": {
     "name": "#%% md\n"
    }
   }
  },
  {
   "cell_type": "code",
   "source": [
    "file_path = r'C:\\Users\\Dell\\OneDrive - Technion\\טכניון\\סמסטר ז\\סדנא בפיתוח ממג\\code\\data\\travelTimes_2015_Helsinki.csv'\n",
    "col_list = [\"from_x\", \"from_y\", \"to_x\", \"to_y\"]\n",
    "data = pd.read_csv(file_path, usecols=col_list)\n",
    "data.head()\n"
   ],
   "metadata": {
    "collapsed": false,
    "pycharm": {
     "name": "#%%\n"
    }
   },
   "execution_count": 2,
   "outputs": [
    {
     "data": {
      "text/plain": "      from_x     from_y       to_x       to_y\n0  24.970438  60.311917  24.856034  60.399941\n1  24.970438  60.311917  24.860568  60.400014\n2  24.970438  60.311917  24.865102  60.400086\n3  24.970438  60.311917  24.869636  60.400159\n4  24.970438  60.311917  24.842582  60.397478",
      "text/html": "<div>\n<style scoped>\n    .dataframe tbody tr th:only-of-type {\n        vertical-align: middle;\n    }\n\n    .dataframe tbody tr th {\n        vertical-align: top;\n    }\n\n    .dataframe thead th {\n        text-align: right;\n    }\n</style>\n<table border=\"1\" class=\"dataframe\">\n  <thead>\n    <tr style=\"text-align: right;\">\n      <th></th>\n      <th>from_x</th>\n      <th>from_y</th>\n      <th>to_x</th>\n      <th>to_y</th>\n    </tr>\n  </thead>\n  <tbody>\n    <tr>\n      <td>0</td>\n      <td>24.970438</td>\n      <td>60.311917</td>\n      <td>24.856034</td>\n      <td>60.399941</td>\n    </tr>\n    <tr>\n      <td>1</td>\n      <td>24.970438</td>\n      <td>60.311917</td>\n      <td>24.860568</td>\n      <td>60.400014</td>\n    </tr>\n    <tr>\n      <td>2</td>\n      <td>24.970438</td>\n      <td>60.311917</td>\n      <td>24.865102</td>\n      <td>60.400086</td>\n    </tr>\n    <tr>\n      <td>3</td>\n      <td>24.970438</td>\n      <td>60.311917</td>\n      <td>24.869636</td>\n      <td>60.400159</td>\n    </tr>\n    <tr>\n      <td>4</td>\n      <td>24.970438</td>\n      <td>60.311917</td>\n      <td>24.842582</td>\n      <td>60.397478</td>\n    </tr>\n  </tbody>\n</table>\n</div>"
     },
     "execution_count": 2,
     "metadata": {},
     "output_type": "execute_result"
    }
   ]
  },
  {
   "cell_type": "markdown",
   "source": [
    "Task 2- create lists\n",
    "\n",
    "\n"
   ],
   "metadata": {
    "collapsed": false,
    "pycharm": {
     "name": "#%% md\n"
    }
   }
  },
  {
   "cell_type": "code",
   "execution_count": 7,
   "outputs": [],
   "source": [
    "orig_points = []\n",
    "dest_points = []\n"
   ],
   "metadata": {
    "collapsed": false,
    "pycharm": {
     "name": "#%%\n"
    }
   }
  },
  {
   "cell_type": "markdown",
   "source": [
    "Task 3- populate lists with Shapely Points\n",
    "\n",
    "\n"
   ],
   "metadata": {
    "collapsed": false
   }
  },
  {
   "cell_type": "code",
   "execution_count": 4,
   "outputs": [
    {
     "name": "stdout",
     "output_type": "stream",
     "text": [
      "24.9704379\n",
      "60.3119173\n"
     ]
    }
   ],
   "source": [
    "for index, row in data.iterrows() :\n",
    "    orig_points.append(Point(row['from_x'], row['from_y']))\n",
    "    dest_points.append(Point(row['to_x'], row['to_y']))\n",
    "print(orig_points[1].x)\n",
    "print(orig_points[1].y)"
   ],
   "metadata": {
    "collapsed": false,
    "pycharm": {
     "name": "#%%\n"
    }
   }
  },
  {
   "cell_type": "markdown",
   "source": [
    "Task 4- create Shapely line objects and printing average length\n"
   ],
   "metadata": {
    "collapsed": false,
    "pycharm": {
     "name": "#%% md\n"
    }
   }
  },
  {
   "cell_type": "code",
   "execution_count": 5,
   "outputs": [
    {
     "name": "stdout",
     "output_type": "stream",
     "text": [
      "average length is:  0.21502224823227184\n"
     ]
    }
   ],
   "source": [
    "lines = []\n",
    "\n",
    "for i in range(len(orig_points)) :\n",
    "    lines.append(LineString([orig_points[i], dest_points[i]]))\n",
    "\n",
    "avg_line = sum([line.length for line in lines]) / len(lines)\n",
    "print('average length is: ',avg_line)"
   ],
   "metadata": {
    "collapsed": false,
    "pycharm": {
     "name": "#%%\n"
    }
   }
  },
  {
   "cell_type": "markdown",
   "source": [
    "### Section B\n",
    "#### part 1:"
   ],
   "metadata": {
    "collapsed": false
   }
  },
  {
   "cell_type": "markdown",
   "source": [
    "reading data from csv file\n"
   ],
   "metadata": {
    "collapsed": false
   }
  },
  {
   "cell_type": "code",
   "execution_count": 6,
   "outputs": [
    {
     "name": "stdout",
     "output_type": "stream",
     "text": [
      "             lat        lon         timestamp    userid\n",
      "0     -24.980792  31.484633  2015-07-07 03:02  66487960\n",
      "1     -25.499225  31.508906  2015-07-07 03:18  65281761\n",
      "2     -24.342578  30.930866  2015-03-07 03:38  90916112\n",
      "3     -24.854614  31.519718  2015-10-07 05:04  37959089\n",
      "4     -24.921069  31.520836  2015-10-07 05:19  27793716\n",
      "...          ...        ...               ...       ...\n",
      "81374 -24.799541  31.354469  2015-09-05 02:23  90744213\n",
      "81375 -25.467992  30.956033  2015-02-05 02:40  71109799\n",
      "81376 -25.332223  30.997409  2015-08-05 02:40  54796261\n",
      "81377 -25.508851  31.005536  2015-08-05 02:43  78762204\n",
      "81378 -25.498840  31.007430  2015-04-05 02:44  32190273\n",
      "\n",
      "[81379 rows x 4 columns]\n"
     ]
    }
   ],
   "source": [
    "file_path = r'C:\\Users\\Dell\\OneDrive - Technion\\טכניון\\סמסטר ז\\סדנא בפיתוח ממג\\code\\data\\some_posts.csv'\n",
    "data = pd.read_csv(file_path)\n",
    "data.head()\n",
    "\n",
    "# data['geometry'] = data.index\n",
    "\n",
    "for index, row in data.iterrows() :\n",
    "    row['geometry'] = Point(row['lat'], row['lon'])\n",
    "\n",
    "print(data)"
   ],
   "metadata": {
    "collapsed": false,
    "pycharm": {
     "name": "#%%\n"
    }
   }
  }
 ],
 "metadata": {
  "kernelspec": {
   "name": "python3",
   "language": "python",
   "display_name": "Python 3"
  },
  "language_info": {
   "codemirror_mode": {
    "name": "ipython",
    "version": 2
   },
   "file_extension": ".py",
   "mimetype": "text/x-python",
   "name": "python",
   "nbconvert_exporter": "python",
   "pygments_lexer": "ipython2",
   "version": "2.7.6"
  }
 },
 "nbformat": 4,
 "nbformat_minor": 0
}