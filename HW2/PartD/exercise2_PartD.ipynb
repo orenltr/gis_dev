{
 "cells": [
  {
   "cell_type": "code",
   "execution_count": 387,
   "metadata": {
    "collapsed": true
   },
   "outputs": [],
   "source": []
  },
  {
   "cell_type": "code",
   "execution_count": 388,
   "outputs": [],
   "source": [
    "# used for handle data\n",
    "import pandas as pd\n",
    "\n",
    "# used to handle geo data\n",
    "from shapely.ops import transform, Point\n",
    "from geopandas.tools import reverse_geocode\n",
    "import geopandas as gpd\n",
    "\n",
    "# used for manipulating directory paths\n",
    "import os\n",
    "\n",
    "# Scientific and vector computation for python\n",
    "import numpy as np\n",
    "\n",
    "# Plotting library\n",
    "from matplotlib import pyplot\n",
    "\n",
    "# Optimization module in scipy\n",
    "from scipy import optimize\n",
    "\n",
    "# library written for this exercise providing additional functions for assignment submission, and others\n",
    "import utils\n",
    "\n",
    "# tells matplotlib to embed plots within the notebook\n",
    "%matplotlib inline\n",
    "\n",
    "import sys\n",
    "sys.path.append('./')\n",
    "\n",
    "# import hvplot.pandas\n",
    "\n",
    "from matplotlib import pyplot as plt"
   ],
   "metadata": {
    "collapsed": false,
    "pycharm": {
     "name": "#%%\n"
    }
   }
  },
  {
   "cell_type": "markdown",
   "source": [
    "read AIRBNB data"
   ],
   "metadata": {
    "collapsed": false,
    "pycharm": {
     "name": "#%% md\n"
    }
   }
  },
  {
   "cell_type": "code",
   "execution_count": 389,
   "outputs": [
    {
     "data": {
      "text/plain": "         id                            listing_url       scrape_id  \\\n0   9784567   https://www.airbnb.com/rooms/9784567  20160704013910   \n1  13163805  https://www.airbnb.com/rooms/13163805  20160704013910   \n2   3719167   https://www.airbnb.com/rooms/3719167  20160704013910   \n3  13188367  https://www.airbnb.com/rooms/13188367  20160704013910   \n4   4831606   https://www.airbnb.com/rooms/4831606  20160704013910   \n\n  last_scraped                                               name  \\\n0   2016-07-04                             nice Room in Amsterdam   \n1   2016-07-04        Best cost benefit room near a metro station   \n2   2016-07-04  Nice  room in A´dam SE near nature & heart centre   \n3   2016-07-04     Private room 15min metro ride from city center   \n4   2016-07-04    Room in Amsterdam in a new house!! Free Bicycle   \n\n                                             summary  \\\n0  nice Room 20 Min.to Amst.center 10 minutes wal...   \n1  We (me and my wife) are constantly improving o...   \n2  I offer a beautiful 19 sqm room in a house on ...   \n3  The apartment is located a 15min ride from the...   \n4  In Amsterdam Zuidoost (20 minutes to central s...   \n\n                                               space  \\\n0                                                NaN   \n1                                                NaN   \n2  The location is close to the shops, public tra...   \n3                                                NaN   \n4                                           Smart tv   \n\n                                         description experiences_offered  \\\n0  nice Room 20 Min.to Amst.center 10 minutes wal...                none   \n1  We (me and my wife) are constantly improving o...                none   \n2  I offer a beautiful 19 sqm room in a house on ...                none   \n3  The apartment is located a 15min ride from the...                none   \n4  In Amsterdam Zuidoost (20 minutes to central s...                none   \n\n                               neighborhood_overview  ...  \\\n0              nice Park metro in front bus in front  ...   \n1                                                NaN  ...   \n2  A lot of different internationalities and cult...  ...   \n3                                                NaN  ...   \n4                                                NaN  ...   \n\n  calendar_last_scraped.day-of-month calendar_last_scraped.day-of-week  \\\n0                                  4                                 1   \n1                                  4                                 1   \n2                                  4                                 1   \n3                                  4                                 1   \n4                                  4                                 1   \n\n  first_review.year first_review.month first_review.day-of-month  \\\n0            2016.0                1.0                       2.0   \n1            2016.0                6.0                      13.0   \n2            2014.0                8.0                      17.0   \n3            2016.0                5.0                      29.0   \n4            2015.0                1.0                       2.0   \n\n  first_review.day-of-week last_review.year last_review.month  \\\n0                      6.0           2016.0               6.0   \n1                      1.0           2016.0               6.0   \n2                      7.0           2016.0               1.0   \n3                      7.0           2016.0               5.0   \n4                      5.0           2016.0               3.0   \n\n  last_review.day-of-month  last_review.day-of-week  \n0                     27.0                      1.0  \n1                     27.0                      1.0  \n2                      2.0                      6.0  \n3                     31.0                      2.0  \n4                     22.0                      2.0  \n\n[5 rows x 115 columns]",
      "text/html": "<div>\n<style scoped>\n    .dataframe tbody tr th:only-of-type {\n        vertical-align: middle;\n    }\n\n    .dataframe tbody tr th {\n        vertical-align: top;\n    }\n\n    .dataframe thead th {\n        text-align: right;\n    }\n</style>\n<table border=\"1\" class=\"dataframe\">\n  <thead>\n    <tr style=\"text-align: right;\">\n      <th></th>\n      <th>id</th>\n      <th>listing_url</th>\n      <th>scrape_id</th>\n      <th>last_scraped</th>\n      <th>name</th>\n      <th>summary</th>\n      <th>space</th>\n      <th>description</th>\n      <th>experiences_offered</th>\n      <th>neighborhood_overview</th>\n      <th>...</th>\n      <th>calendar_last_scraped.day-of-month</th>\n      <th>calendar_last_scraped.day-of-week</th>\n      <th>first_review.year</th>\n      <th>first_review.month</th>\n      <th>first_review.day-of-month</th>\n      <th>first_review.day-of-week</th>\n      <th>last_review.year</th>\n      <th>last_review.month</th>\n      <th>last_review.day-of-month</th>\n      <th>last_review.day-of-week</th>\n    </tr>\n  </thead>\n  <tbody>\n    <tr>\n      <td>0</td>\n      <td>9784567</td>\n      <td>https://www.airbnb.com/rooms/9784567</td>\n      <td>20160704013910</td>\n      <td>2016-07-04</td>\n      <td>nice Room in Amsterdam</td>\n      <td>nice Room 20 Min.to Amst.center 10 minutes wal...</td>\n      <td>NaN</td>\n      <td>nice Room 20 Min.to Amst.center 10 minutes wal...</td>\n      <td>none</td>\n      <td>nice Park metro in front bus in front</td>\n      <td>...</td>\n      <td>4</td>\n      <td>1</td>\n      <td>2016.0</td>\n      <td>1.0</td>\n      <td>2.0</td>\n      <td>6.0</td>\n      <td>2016.0</td>\n      <td>6.0</td>\n      <td>27.0</td>\n      <td>1.0</td>\n    </tr>\n    <tr>\n      <td>1</td>\n      <td>13163805</td>\n      <td>https://www.airbnb.com/rooms/13163805</td>\n      <td>20160704013910</td>\n      <td>2016-07-04</td>\n      <td>Best cost benefit room near a metro station</td>\n      <td>We (me and my wife) are constantly improving o...</td>\n      <td>NaN</td>\n      <td>We (me and my wife) are constantly improving o...</td>\n      <td>none</td>\n      <td>NaN</td>\n      <td>...</td>\n      <td>4</td>\n      <td>1</td>\n      <td>2016.0</td>\n      <td>6.0</td>\n      <td>13.0</td>\n      <td>1.0</td>\n      <td>2016.0</td>\n      <td>6.0</td>\n      <td>27.0</td>\n      <td>1.0</td>\n    </tr>\n    <tr>\n      <td>2</td>\n      <td>3719167</td>\n      <td>https://www.airbnb.com/rooms/3719167</td>\n      <td>20160704013910</td>\n      <td>2016-07-04</td>\n      <td>Nice  room in A´dam SE near nature &amp; heart centre</td>\n      <td>I offer a beautiful 19 sqm room in a house on ...</td>\n      <td>The location is close to the shops, public tra...</td>\n      <td>I offer a beautiful 19 sqm room in a house on ...</td>\n      <td>none</td>\n      <td>A lot of different internationalities and cult...</td>\n      <td>...</td>\n      <td>4</td>\n      <td>1</td>\n      <td>2014.0</td>\n      <td>8.0</td>\n      <td>17.0</td>\n      <td>7.0</td>\n      <td>2016.0</td>\n      <td>1.0</td>\n      <td>2.0</td>\n      <td>6.0</td>\n    </tr>\n    <tr>\n      <td>3</td>\n      <td>13188367</td>\n      <td>https://www.airbnb.com/rooms/13188367</td>\n      <td>20160704013910</td>\n      <td>2016-07-04</td>\n      <td>Private room 15min metro ride from city center</td>\n      <td>The apartment is located a 15min ride from the...</td>\n      <td>NaN</td>\n      <td>The apartment is located a 15min ride from the...</td>\n      <td>none</td>\n      <td>NaN</td>\n      <td>...</td>\n      <td>4</td>\n      <td>1</td>\n      <td>2016.0</td>\n      <td>5.0</td>\n      <td>29.0</td>\n      <td>7.0</td>\n      <td>2016.0</td>\n      <td>5.0</td>\n      <td>31.0</td>\n      <td>2.0</td>\n    </tr>\n    <tr>\n      <td>4</td>\n      <td>4831606</td>\n      <td>https://www.airbnb.com/rooms/4831606</td>\n      <td>20160704013910</td>\n      <td>2016-07-04</td>\n      <td>Room in Amsterdam in a new house!! Free Bicycle</td>\n      <td>In Amsterdam Zuidoost (20 minutes to central s...</td>\n      <td>Smart tv</td>\n      <td>In Amsterdam Zuidoost (20 minutes to central s...</td>\n      <td>none</td>\n      <td>NaN</td>\n      <td>...</td>\n      <td>4</td>\n      <td>1</td>\n      <td>2015.0</td>\n      <td>1.0</td>\n      <td>2.0</td>\n      <td>5.0</td>\n      <td>2016.0</td>\n      <td>3.0</td>\n      <td>22.0</td>\n      <td>2.0</td>\n    </tr>\n  </tbody>\n</table>\n<p>5 rows × 115 columns</p>\n</div>"
     },
     "execution_count": 389,
     "metadata": {},
     "output_type": "execute_result"
    }
   ],
   "source": [
    "data = pd.read_csv('BigML_Dataset_5dd97775fb7bdd184c00024f.csv')\n",
    "data.head()"
   ],
   "metadata": {
    "collapsed": false,
    "pycharm": {
     "name": "#%%\n"
    }
   }
  },
  {
   "cell_type": "markdown",
   "source": [
    "removing rows and columns that contains significant amount of nans"
   ],
   "metadata": {
    "collapsed": false,
    "pycharm": {
     "name": "#%% md\n"
    }
   }
  },
  {
   "cell_type": "code",
   "execution_count": 390,
   "outputs": [],
   "source": [
    "cleaned_data = data.dropna(axis='columns',thresh=0.8*data.shape[0])\n",
    "cleaned_data = cleaned_data.dropna(axis='index',how='any')\n"
   ],
   "metadata": {
    "collapsed": false,
    "pycharm": {
     "name": "#%%\n"
    }
   }
  },
  {
   "cell_type": "code",
   "execution_count": 391,
   "outputs": [],
   "source": [
    "cleaned_numeric_data = cleaned_data.select_dtypes(exclude=['object'])"
   ],
   "metadata": {
    "collapsed": false,
    "pycharm": {
     "name": "#%%\n"
    }
   }
  },
  {
   "cell_type": "code",
   "execution_count": 392,
   "outputs": [],
   "source": [
    "# extracting the prices and removing them from the dt\n",
    "# y = cleaned_numeric_data['price']\n",
    "# cleaned_numeric_data = cleaned_numeric_data.drop(columns='price')"
   ],
   "metadata": {
    "collapsed": false,
    "pycharm": {
     "name": "#%%\n"
    }
   }
  },
  {
   "cell_type": "code",
   "execution_count": 393,
   "outputs": [
    {
     "data": {
      "text/plain": "<pandas.plotting._core.PlotAccessor object at 0x000002AED3B199C8>"
     },
     "execution_count": 393,
     "metadata": {},
     "output_type": "execute_result"
    }
   ],
   "source": [
    "cleaned_numeric_data.plot"
   ],
   "metadata": {
    "collapsed": false,
    "pycharm": {
     "name": "#%%\n"
    }
   }
  },
  {
   "cell_type": "code",
   "execution_count": 394,
   "outputs": [],
   "source": [
    "# normalize values\n",
    "def featureNormalize(X):\n",
    "    \"\"\"\n",
    "    Normalizes the features in X. returns a normalized version of X where\n",
    "    the mean value of each feature is 0 and the standard deviation\n",
    "    is 1. This is often a good preprocessing step to do when working with\n",
    "    learning algorithms.\n",
    "\n",
    "    Parameters\n",
    "    ----------\n",
    "    X : array_like\n",
    "        The dataset of shape (m x n).\n",
    "\n",
    "    Returns\n",
    "    -------\n",
    "    X_norm : array_like\n",
    "        The normalized dataset of shape (m x n).\n",
    "\n",
    "    \"\"\"\n",
    "    X_norm = X.copy()\n",
    "    mu = np.zeros(X.shape[1])\n",
    "    sigma = np.zeros(X.shape[1])\n",
    "\n",
    "    n = (X.shape[0])\n",
    "    mu = np.average(X, 0)\n",
    "    mat1 = np.dot(mu.T[:, None], np.ones([1, n])).T\n",
    "    X_norm = X_norm - mat1\n",
    "\n",
    "    sigma = np.std(X, 0)\n",
    "    mat2 = np.dot(sigma.T[:, None], np.ones([1, n])).T\n",
    "    X_norm = X_norm / mat2\n",
    "\n",
    "    return X_norm, mu, sigma"
   ],
   "metadata": {
    "collapsed": false,
    "pycharm": {
     "name": "#%%\n"
    }
   }
  },
  {
   "cell_type": "code",
   "execution_count": 395,
   "outputs": [
    {
     "name": "stderr",
     "output_type": "stream",
     "text": [
      "C:\\Users\\Dell\\Anaconda3\\lib\\site-packages\\ipykernel_launcher.py:31: RuntimeWarning: invalid value encountered in true_divide\n"
     ]
    },
    {
     "data": {
      "text/plain": "         id   host_id  host_response_rate  host_acceptance_rate  \\\n0  0.761484  0.381627            0.445549              0.643142   \n1  1.641562  0.818840            0.445549              0.643142   \n2 -0.818169 -0.059765           -1.512262             -0.101024   \n4 -0.528449  0.223694            0.445549             -1.239161   \n6 -1.632611 -0.933590           -0.337575              0.643142   \n\n   host_listings_count  host_total_listings_count  latitude  longitude  \\\n0             -0.14818                   -0.14818 -2.817112   2.704464   \n1             -0.24134                   -0.24134 -3.327567   2.717651   \n2             -0.24134                   -0.24134 -3.256594   2.972943   \n4             -0.24134                   -0.24134 -2.559634   2.390976   \n6             -0.24134                   -0.24134 -2.578703   2.862120   \n\n   accommodates  bathrooms  ...  host_since.day-of-month  \\\n0     -0.673103  -0.353720  ...                -1.177259   \n1     -0.673103  -0.353720  ...                -0.608393   \n2     -0.673103  -0.353720  ...                 1.325752   \n4     -1.346362  -0.353720  ...                 1.667072   \n6      1.346675   1.095993  ...                -0.835940   \n\n   host_since.day-of-week  first_review.year  first_review.month  \\\n0                0.108664           0.982438           -1.606073   \n1               -0.383008           0.982438            0.030238   \n2                1.583682          -0.855699            0.684762   \n4                1.583682           0.063369           -1.606073   \n6                0.600337          -2.693836            1.012025   \n\n   first_review.day-of-month  first_review.day-of-week  last_review.year  \\\n0                  -1.435241                  0.987685          0.262603   \n1                  -0.240153                 -1.147978          0.262603   \n2                   0.194425                  1.414818          0.262603   \n4                  -1.435241                  0.560553          0.262603   \n6                  -1.109308                 -0.293712          0.262603   \n\n   last_review.month  last_review.day-of-month  last_review.day-of-week  \n0           0.263241                  1.036298                -1.242037  \n1           0.263241                  1.036298                -1.242037  \n2          -3.083600                 -1.744954                 0.824347  \n4          -1.744863                  0.480048                -0.828761  \n6           0.263241                  0.925048                 1.237624  \n\n[5 rows x 43 columns]",
      "text/html": "<div>\n<style scoped>\n    .dataframe tbody tr th:only-of-type {\n        vertical-align: middle;\n    }\n\n    .dataframe tbody tr th {\n        vertical-align: top;\n    }\n\n    .dataframe thead th {\n        text-align: right;\n    }\n</style>\n<table border=\"1\" class=\"dataframe\">\n  <thead>\n    <tr style=\"text-align: right;\">\n      <th></th>\n      <th>id</th>\n      <th>host_id</th>\n      <th>host_response_rate</th>\n      <th>host_acceptance_rate</th>\n      <th>host_listings_count</th>\n      <th>host_total_listings_count</th>\n      <th>latitude</th>\n      <th>longitude</th>\n      <th>accommodates</th>\n      <th>bathrooms</th>\n      <th>...</th>\n      <th>host_since.day-of-month</th>\n      <th>host_since.day-of-week</th>\n      <th>first_review.year</th>\n      <th>first_review.month</th>\n      <th>first_review.day-of-month</th>\n      <th>first_review.day-of-week</th>\n      <th>last_review.year</th>\n      <th>last_review.month</th>\n      <th>last_review.day-of-month</th>\n      <th>last_review.day-of-week</th>\n    </tr>\n  </thead>\n  <tbody>\n    <tr>\n      <td>0</td>\n      <td>0.761484</td>\n      <td>0.381627</td>\n      <td>0.445549</td>\n      <td>0.643142</td>\n      <td>-0.14818</td>\n      <td>-0.14818</td>\n      <td>-2.817112</td>\n      <td>2.704464</td>\n      <td>-0.673103</td>\n      <td>-0.353720</td>\n      <td>...</td>\n      <td>-1.177259</td>\n      <td>0.108664</td>\n      <td>0.982438</td>\n      <td>-1.606073</td>\n      <td>-1.435241</td>\n      <td>0.987685</td>\n      <td>0.262603</td>\n      <td>0.263241</td>\n      <td>1.036298</td>\n      <td>-1.242037</td>\n    </tr>\n    <tr>\n      <td>1</td>\n      <td>1.641562</td>\n      <td>0.818840</td>\n      <td>0.445549</td>\n      <td>0.643142</td>\n      <td>-0.24134</td>\n      <td>-0.24134</td>\n      <td>-3.327567</td>\n      <td>2.717651</td>\n      <td>-0.673103</td>\n      <td>-0.353720</td>\n      <td>...</td>\n      <td>-0.608393</td>\n      <td>-0.383008</td>\n      <td>0.982438</td>\n      <td>0.030238</td>\n      <td>-0.240153</td>\n      <td>-1.147978</td>\n      <td>0.262603</td>\n      <td>0.263241</td>\n      <td>1.036298</td>\n      <td>-1.242037</td>\n    </tr>\n    <tr>\n      <td>2</td>\n      <td>-0.818169</td>\n      <td>-0.059765</td>\n      <td>-1.512262</td>\n      <td>-0.101024</td>\n      <td>-0.24134</td>\n      <td>-0.24134</td>\n      <td>-3.256594</td>\n      <td>2.972943</td>\n      <td>-0.673103</td>\n      <td>-0.353720</td>\n      <td>...</td>\n      <td>1.325752</td>\n      <td>1.583682</td>\n      <td>-0.855699</td>\n      <td>0.684762</td>\n      <td>0.194425</td>\n      <td>1.414818</td>\n      <td>0.262603</td>\n      <td>-3.083600</td>\n      <td>-1.744954</td>\n      <td>0.824347</td>\n    </tr>\n    <tr>\n      <td>4</td>\n      <td>-0.528449</td>\n      <td>0.223694</td>\n      <td>0.445549</td>\n      <td>-1.239161</td>\n      <td>-0.24134</td>\n      <td>-0.24134</td>\n      <td>-2.559634</td>\n      <td>2.390976</td>\n      <td>-1.346362</td>\n      <td>-0.353720</td>\n      <td>...</td>\n      <td>1.667072</td>\n      <td>1.583682</td>\n      <td>0.063369</td>\n      <td>-1.606073</td>\n      <td>-1.435241</td>\n      <td>0.560553</td>\n      <td>0.262603</td>\n      <td>-1.744863</td>\n      <td>0.480048</td>\n      <td>-0.828761</td>\n    </tr>\n    <tr>\n      <td>6</td>\n      <td>-1.632611</td>\n      <td>-0.933590</td>\n      <td>-0.337575</td>\n      <td>0.643142</td>\n      <td>-0.24134</td>\n      <td>-0.24134</td>\n      <td>-2.578703</td>\n      <td>2.862120</td>\n      <td>1.346675</td>\n      <td>1.095993</td>\n      <td>...</td>\n      <td>-0.835940</td>\n      <td>0.600337</td>\n      <td>-2.693836</td>\n      <td>1.012025</td>\n      <td>-1.109308</td>\n      <td>-0.293712</td>\n      <td>0.262603</td>\n      <td>0.263241</td>\n      <td>0.925048</td>\n      <td>1.237624</td>\n    </tr>\n  </tbody>\n</table>\n<p>5 rows × 43 columns</p>\n</div>"
     },
     "execution_count": 395,
     "metadata": {},
     "output_type": "execute_result"
    }
   ],
   "source": [
    "values = cleaned_numeric_data.values\n",
    "norm_values, mean, sigma = featureNormalize(values)\n",
    "\n",
    "normalized_data = pd.DataFrame(norm_values, index=cleaned_numeric_data.index, columns=cleaned_numeric_data.columns)\n",
    "normalized_data = normalized_data.dropna(axis='columns')\n",
    "normalized_data.head()"
   ],
   "metadata": {
    "collapsed": false,
    "pycharm": {
     "name": "#%%\n"
    }
   }
  },
  {
   "cell_type": "markdown",
   "source": [
    "visualize the data"
   ],
   "metadata": {
    "collapsed": false,
    "pycharm": {
     "name": "#%% md\n"
    }
   }
  },
  {
   "cell_type": "code",
   "execution_count": 396,
   "outputs": [
    {
     "data": {
      "text/plain": "<Figure size 432x288 with 0 Axes>"
     },
     "metadata": {},
     "output_type": "display_data"
    },
    {
     "data": {
      "text/plain": "<Figure size 432x288 with 1 Axes>",
      "image/png": "[encoded data removed]"
     },
     "metadata": {
      "needs_background": "light"
     },
     "output_type": "display_data"
    }
   ],
   "source": [
    "plt.figure()\n",
    "\n",
    "ax = normalized_data.plot(x=['review_scores_rating'], y=['price'], color='b', label= 'review_scores_rating', kind='scatter')\n",
    "normalized_data.plot(x=['review_scores_cleanliness'], y=['price'], color='r', label= 'review_scores_cleanliness', kind='scatter', ax=ax)\n",
    "normalized_data.plot(x=['number_of_reviews'], y=['price'], color='g', label= 'number_of_reviews', kind='scatter', ax=ax)\n",
    "normalized_data.plot(x=['review_scores_communication'], y=['price'], color='y', label= 'review_scores_communication', kind='scatter', ax=ax)\n",
    "plt.show()"
   ],
   "metadata": {
    "collapsed": false,
    "pycharm": {
     "name": "#%%\n"
    }
   }
  },
  {
   "cell_type": "markdown",
   "source": [
    "compute cost and gradient decent functions"
   ],
   "metadata": {
    "collapsed": false,
    "pycharm": {
     "name": "#%% md\n"
    }
   }
  },
  {
   "cell_type": "code",
   "execution_count": 397,
   "outputs": [],
   "source": [
    "def computeCost(X, y, theta):\n",
    "    \"\"\"\n",
    "    Compute cost for linear regression. Computes the cost of using theta as the\n",
    "    parameter for linear regression to fit the data points in X and y.\n",
    "\n",
    "    Parameters\n",
    "    ----------\n",
    "    X : array_like\n",
    "        The input dataset of shape (m x n+1), where m is the number of examples,\n",
    "        and n is the number of features. We assume a vector of one's already\n",
    "        appended to the features so we have n+1 columns.\n",
    "\n",
    "    y : array_like\n",
    "        The values of the function at each data point. This is a vector of\n",
    "        shape (m, ).\n",
    "\n",
    "    theta : array_like\n",
    "        The parameters for the regression function. This is a vector of\n",
    "        shape (n+1, ).\n",
    "\n",
    "    Returns\n",
    "    -------\n",
    "    J : float\n",
    "        The value of the regression cost function.\n",
    "\n",
    "    Instructions\n",
    "    ------------\n",
    "    Compute the cost of a particular choice of theta.\n",
    "    You should set J to the cost.\n",
    "    \"\"\"\n",
    "\n",
    "    # initialize some useful values\n",
    "    m = y.size  # number of training examples\n",
    "\n",
    "    # You need to return the following variables correctly\n",
    "    J = 0\n",
    "\n",
    "    # ====================== YOUR CODE HERE =====================\n",
    "    J = 1/(2*m)*np.dot((np.dot(X,theta) - y).T,(np.dot(X,theta) - y))\n",
    "\n",
    "    # ===========================================================\n",
    "    return J\n",
    "\n",
    "def gradientDescent(X, y, theta, alpha, num_iters):\n",
    "    \"\"\"\n",
    "    Performs gradient descent to learn `theta`. Updates theta by taking `num_iters`\n",
    "    gradient steps with learning rate `alpha`.\n",
    "\n",
    "    Parameters\n",
    "    ----------\n",
    "    X : array_like\n",
    "        The input dataset of shape (m x n+1).\n",
    "\n",
    "    y : arra_like\n",
    "        Value at given features. A vector of shape (m, ).\n",
    "\n",
    "    theta : array_like\n",
    "        Initial values for the linear regression parameters.\n",
    "        A vector of shape (n+1, ).\n",
    "\n",
    "    alpha : float\n",
    "        The learning rate.\n",
    "\n",
    "    num_iters : int\n",
    "        The number of iterations for gradient descent.\n",
    "\n",
    "    Returns\n",
    "    -------\n",
    "    theta : array_like\n",
    "        The learned linear regression parameters. A vector of shape (n+1, ).\n",
    "\n",
    "    J_history : list\n",
    "        A python list for the values of the cost function after each iteration.\n",
    "\n",
    "    Instructions\n",
    "    ------------\n",
    "    Peform a single gradient step on the parameter vector theta.\n",
    "\n",
    "    While debugging, it can be useful to print out the values of\n",
    "    the cost function (computeCost) and gradient here.\n",
    "    \"\"\"\n",
    "    # Initialize some useful values\n",
    "    m = y.shape[0]  # number of training examples\n",
    "\n",
    "    # make a copy of theta, to avoid changing the original array, since numpy arrays\n",
    "    # are passed by reference to functions\n",
    "    theta = theta.copy()\n",
    "\n",
    "    J_history = [] # Use a python list to save cost in every iteration\n",
    "\n",
    "    for i in range(num_iters):\n",
    "        # ==================== YOUR CODE HERE =================================\n",
    "\n",
    "        theta = theta - (alpha/m)*np.dot(X.T,(np.dot(X,theta)-y))\n",
    "        # =====================================================================\n",
    "\n",
    "        # save the cost J in every iteration\n",
    "        J_history.append(computeCost(X, y, theta))\n",
    "\n",
    "    return theta, J_history\n"
   ],
   "metadata": {
    "collapsed": false,
    "pycharm": {
     "name": "#%%\n"
    }
   }
  },
  {
   "cell_type": "code",
   "execution_count": 398,
   "outputs": [],
   "source": [
    "# remove unrelevant features\n",
    "relevant_data = cleaned_numeric_data.drop(columns=['id','scrape_id','host_id',\n",
    "                                           'last_scraped.year','last_scraped.month','last_scraped.day-of-month',\n",
    "                                           'last_scraped.day-of-week','host_since.month','host_since.year'\n",
    "                                           ,'host_since.day-of-month','host_since.day-of-week','calendar_last_scraped.year'\n",
    "                                           ,'calendar_last_scraped.month','calendar_last_scraped.day-of-month','calendar_last_scraped.day-of-week'\n",
    "                                           ,'last_review.year','last_review.month','last_review.day-of-month','last_review.day-of-week'\n",
    "                                           ,'first_review.year'])\n",
    "                                           # ,'first_review.month','first_review.day-of-month','first_review.day-of-week'\n",
    "                                           # ,'last_review.month','availability_30','availability_60','availability_90','availability_365',])"
   ],
   "metadata": {
    "collapsed": false,
    "pycharm": {
     "name": "#%%\n"
    }
   }
  },
  {
   "cell_type": "markdown",
   "source": [
    "choose training data and teting data randomly"
   ],
   "metadata": {
    "collapsed": false,
    "pycharm": {
     "name": "#%% md\n"
    }
   }
  },
  {
   "cell_type": "code",
   "execution_count": 399,
   "outputs": [],
   "source": [
    "train_data = relevant_data.sample(frac = 0.2)\n",
    "\n",
    "# taking out from the dataframe the price because it is the feature we try to predict\n",
    "y_train = relevant_data['price'][train_data.index].values\n",
    "train_data = train_data.drop(columns='price')"
   ],
   "metadata": {
    "collapsed": false,
    "pycharm": {
     "name": "#%%\n"
    }
   }
  },
  {
   "cell_type": "code",
   "execution_count": 400,
   "outputs": [],
   "source": [
    "test_data = relevant_data.loc[relevant_data.index.difference(train_data.index)]\n",
    "y_test = relevant_data['price'][test_data.index].values\n",
    "test_data = test_data.drop(columns='price')"
   ],
   "metadata": {
    "collapsed": false,
    "pycharm": {
     "name": "#%%\n"
    }
   }
  },
  {
   "cell_type": "code",
   "execution_count": 401,
   "outputs": [
    {
     "data": {
      "text/plain": "      host_response_rate  host_acceptance_rate  host_listings_count  \\\n6042            0.453264              0.551248            -0.143591   \n7322            0.453264             -1.266387            -0.237466   \n2827           -1.791775             -1.050002            -0.237466   \n2129            0.453264              0.637802            -0.237466   \n1051           -0.893759              0.594525            -0.096654   \n\n      host_total_listings_count  latitude  longitude  accommodates  bathrooms  \\\n6042                  -0.143591 -1.499513   0.878906      0.677904  -0.355537   \n7322                  -0.237466 -0.979895   0.094232     -0.676332  -0.355537   \n2827                  -0.237466  0.567552  -0.050872      0.000786  -0.355537   \n2129                  -0.237466  1.226155   0.073082     -0.676332  -0.355537   \n1051                  -0.096654 -0.222526   2.606914      0.677904  -0.355537   \n\n      bedrooms      beds  ...  review_scores_cleanliness  \\\n6042  0.700121  1.421353  ...                   0.721308   \n7322 -0.435763  0.046674  ...                  -0.375615   \n2827 -0.435763 -0.640666  ...                   0.721308   \n2129 -1.571647  0.046674  ...                   0.721308   \n1051 -0.435763  1.421353  ...                  -0.375615   \n\n      review_scores_checkin  review_scores_communication  \\\n6042               0.489991                     0.448344   \n7322               0.489991                     0.448344   \n2827               0.489991                     0.448344   \n2129               0.489991                     0.448344   \n1051              -0.921805                    -1.102854   \n\n      review_scores_location  review_scores_value  \\\n6042                0.828304             1.133002   \n7322                0.828304            -0.107254   \n2827                0.828304             1.133002   \n2129                0.828304            -0.107254   \n1051               -0.488271            -1.347510   \n\n      calculated_host_listings_count  reviews_per_month  first_review.month  \\\n6042                       -0.131221           0.296113           -0.295308   \n7322                       -0.231284          -0.097943           -0.624426   \n2827                       -0.231284          -0.532073           -0.624426   \n2129                       -0.231284           2.820746            0.692045   \n1051                       -0.081189           0.990721            1.021162   \n\n      first_review.day-of-month  first_review.day-of-week  \n6042                  -0.794397                  1.385717  \n7322                  -0.036689                 -0.323673  \n2827                   0.937508                  1.385717  \n2129                   0.179800                 -1.178368  \n1051                  -1.119129                 -0.323673  \n\n[5 rows x 31 columns]",
      "text/html": "<div>\n<style scoped>\n    .dataframe tbody tr th:only-of-type {\n        vertical-align: middle;\n    }\n\n    .dataframe tbody tr th {\n        vertical-align: top;\n    }\n\n    .dataframe thead th {\n        text-align: right;\n    }\n</style>\n<table border=\"1\" class=\"dataframe\">\n  <thead>\n    <tr style=\"text-align: right;\">\n      <th></th>\n      <th>host_response_rate</th>\n      <th>host_acceptance_rate</th>\n      <th>host_listings_count</th>\n      <th>host_total_listings_count</th>\n      <th>latitude</th>\n      <th>longitude</th>\n      <th>accommodates</th>\n      <th>bathrooms</th>\n      <th>bedrooms</th>\n      <th>beds</th>\n      <th>...</th>\n      <th>review_scores_cleanliness</th>\n      <th>review_scores_checkin</th>\n      <th>review_scores_communication</th>\n      <th>review_scores_location</th>\n      <th>review_scores_value</th>\n      <th>calculated_host_listings_count</th>\n      <th>reviews_per_month</th>\n      <th>first_review.month</th>\n      <th>first_review.day-of-month</th>\n      <th>first_review.day-of-week</th>\n    </tr>\n  </thead>\n  <tbody>\n    <tr>\n      <td>6042</td>\n      <td>0.453264</td>\n      <td>0.551248</td>\n      <td>-0.143591</td>\n      <td>-0.143591</td>\n      <td>-1.499513</td>\n      <td>0.878906</td>\n      <td>0.677904</td>\n      <td>-0.355537</td>\n      <td>0.700121</td>\n      <td>1.421353</td>\n      <td>...</td>\n      <td>0.721308</td>\n      <td>0.489991</td>\n      <td>0.448344</td>\n      <td>0.828304</td>\n      <td>1.133002</td>\n      <td>-0.131221</td>\n      <td>0.296113</td>\n      <td>-0.295308</td>\n      <td>-0.794397</td>\n      <td>1.385717</td>\n    </tr>\n    <tr>\n      <td>7322</td>\n      <td>0.453264</td>\n      <td>-1.266387</td>\n      <td>-0.237466</td>\n      <td>-0.237466</td>\n      <td>-0.979895</td>\n      <td>0.094232</td>\n      <td>-0.676332</td>\n      <td>-0.355537</td>\n      <td>-0.435763</td>\n      <td>0.046674</td>\n      <td>...</td>\n      <td>-0.375615</td>\n      <td>0.489991</td>\n      <td>0.448344</td>\n      <td>0.828304</td>\n      <td>-0.107254</td>\n      <td>-0.231284</td>\n      <td>-0.097943</td>\n      <td>-0.624426</td>\n      <td>-0.036689</td>\n      <td>-0.323673</td>\n    </tr>\n    <tr>\n      <td>2827</td>\n      <td>-1.791775</td>\n      <td>-1.050002</td>\n      <td>-0.237466</td>\n      <td>-0.237466</td>\n      <td>0.567552</td>\n      <td>-0.050872</td>\n      <td>0.000786</td>\n      <td>-0.355537</td>\n      <td>-0.435763</td>\n      <td>-0.640666</td>\n      <td>...</td>\n      <td>0.721308</td>\n      <td>0.489991</td>\n      <td>0.448344</td>\n      <td>0.828304</td>\n      <td>1.133002</td>\n      <td>-0.231284</td>\n      <td>-0.532073</td>\n      <td>-0.624426</td>\n      <td>0.937508</td>\n      <td>1.385717</td>\n    </tr>\n    <tr>\n      <td>2129</td>\n      <td>0.453264</td>\n      <td>0.637802</td>\n      <td>-0.237466</td>\n      <td>-0.237466</td>\n      <td>1.226155</td>\n      <td>0.073082</td>\n      <td>-0.676332</td>\n      <td>-0.355537</td>\n      <td>-1.571647</td>\n      <td>0.046674</td>\n      <td>...</td>\n      <td>0.721308</td>\n      <td>0.489991</td>\n      <td>0.448344</td>\n      <td>0.828304</td>\n      <td>-0.107254</td>\n      <td>-0.231284</td>\n      <td>2.820746</td>\n      <td>0.692045</td>\n      <td>0.179800</td>\n      <td>-1.178368</td>\n    </tr>\n    <tr>\n      <td>1051</td>\n      <td>-0.893759</td>\n      <td>0.594525</td>\n      <td>-0.096654</td>\n      <td>-0.096654</td>\n      <td>-0.222526</td>\n      <td>2.606914</td>\n      <td>0.677904</td>\n      <td>-0.355537</td>\n      <td>-0.435763</td>\n      <td>1.421353</td>\n      <td>...</td>\n      <td>-0.375615</td>\n      <td>-0.921805</td>\n      <td>-1.102854</td>\n      <td>-0.488271</td>\n      <td>-1.347510</td>\n      <td>-0.081189</td>\n      <td>0.990721</td>\n      <td>1.021162</td>\n      <td>-1.119129</td>\n      <td>-0.323673</td>\n    </tr>\n  </tbody>\n</table>\n<p>5 rows × 31 columns</p>\n</div>"
     },
     "execution_count": 401,
     "metadata": {},
     "output_type": "execute_result"
    }
   ],
   "source": [
    "values = train_data.values\n",
    "norm_values, mean, sigma = featureNormalize(values)\n",
    "\n",
    "normalized_data = pd.DataFrame(norm_values, index=train_data.index, columns=train_data.columns)\n",
    "normalized_data.head()\n"
   ],
   "metadata": {
    "collapsed": false,
    "pycharm": {
     "name": "#%%\n"
    }
   }
  },
  {
   "cell_type": "code",
   "execution_count": 402,
   "outputs": [],
   "source": [
    "m = train_data.shape[0]\n",
    "# Add intercept term to X\n",
    "X = np.concatenate([np.ones((m, 1)), normalized_data], axis=1)"
   ],
   "metadata": {
    "collapsed": false,
    "pycharm": {
     "name": "#%%\n"
    }
   }
  },
  {
   "cell_type": "markdown",
   "source": [
    "building linear regression model"
   ],
   "metadata": {
    "collapsed": false
   }
  },
  {
   "cell_type": "code",
   "execution_count": 403,
   "outputs": [],
   "source": [
    "# Choose some alpha value - change this\n",
    "alpha = 0.1\n",
    "num_iters = 400\n",
    "\n",
    "# init theta and run gradient descent\n",
    "theta = np.zeros(X.shape[1])\n",
    "theta, J_history = gradientDescent(X, y_train, theta, alpha, num_iters)"
   ],
   "metadata": {
    "collapsed": false,
    "pycharm": {
     "name": "#%%\n"
    }
   }
  },
  {
   "cell_type": "code",
   "execution_count": 404,
   "outputs": [
    {
     "data": {
      "text/plain": "Text(0, 0.5, 'Cost J')"
     },
     "execution_count": 404,
     "metadata": {},
     "output_type": "execute_result"
    },
    {
     "data": {
      "text/plain": "<Figure size 432x288 with 1 Axes>",
      "image/png": "[encoded data removed]"
     },
     "metadata": {
      "needs_background": "light"
     },
     "output_type": "display_data"
    }
   ],
   "source": [
    "# Plot the convergence graph\n",
    "plt.plot(np.arange(len(J_history)), J_history, lw=2)\n",
    "plt.xlabel('Number of iterations')\n",
    "plt.ylabel('Cost J')"
   ],
   "metadata": {
    "collapsed": false,
    "pycharm": {
     "name": "#%%\n"
    }
   }
  },
  {
   "cell_type": "markdown",
   "source": [
    "test the model"
   ],
   "metadata": {
    "collapsed": false
   }
  },
  {
   "cell_type": "code",
   "execution_count": 405,
   "outputs": [
    {
     "data": {
      "text/plain": "   host_response_rate  host_acceptance_rate  host_listings_count  \\\n1            0.443719              0.644510            -0.242303   \n2           -1.538053             -0.101817            -0.242303   \n4            0.443719             -1.243259            -0.242303   \n6           -0.348990              0.644510            -0.242303   \n8            0.443719             -0.233522            -0.242303   \n\n   host_total_listings_count  latitude  longitude  accommodates  bathrooms  \\\n1                  -0.242303 -3.328087   2.724427     -0.672305  -0.353468   \n2                  -0.242303 -3.257216   2.980950     -0.672305  -0.353468   \n4                  -0.242303 -2.561255   2.396178     -1.344610  -0.353468   \n6                  -0.242303 -2.580297   2.869592      1.344610   1.119387   \n8                  -0.242303 -3.118621   2.792483      0.672305  -0.353468   \n\n   bedrooms      beds  ...  review_scores_cleanliness  review_scores_checkin  \\\n1 -0.461333 -0.632643  ...                   0.691457               0.482145   \n2 -0.461333 -0.632643  ...                  -0.408617               0.482145   \n4 -0.461333 -0.632643  ...                  -0.408617               0.482145   \n6  1.863718  2.080173  ...                   0.691457               0.482145   \n8  0.701192  0.045561  ...                   0.691457               0.482145   \n\n   review_scores_communication  review_scores_location  review_scores_value  \\\n1                     0.436751               -0.484533            -0.081019   \n2                     0.436751               -3.110883            -0.081019   \n4                     0.436751               -1.797708            -0.081019   \n6                     0.436751               -0.484533             1.084704   \n8                     0.436751                0.828641             1.084704   \n\n   calculated_host_listings_count  reviews_per_month  first_review.month  \\\n1                       -0.234154           1.649715            0.029352   \n2                       -0.234154          -0.770499            0.682959   \n4                       -0.234154          -0.653614           -1.604667   \n6                       -0.234154          -0.749872            1.009763   \n8                       -0.234154          -0.412967            0.029352   \n\n   first_review.day-of-month  first_review.day-of-week  \n1                  -0.236889                 -1.140543  \n2                   0.198105                  1.422286  \n4                  -1.433123                  0.568009  \n6                  -1.106878                 -0.286267  \n8                   1.285590                 -1.140543  \n\n[5 rows x 31 columns]",
      "text/html": "<div>\n<style scoped>\n    .dataframe tbody tr th:only-of-type {\n        vertical-align: middle;\n    }\n\n    .dataframe tbody tr th {\n        vertical-align: top;\n    }\n\n    .dataframe thead th {\n        text-align: right;\n    }\n</style>\n<table border=\"1\" class=\"dataframe\">\n  <thead>\n    <tr style=\"text-align: right;\">\n      <th></th>\n      <th>host_response_rate</th>\n      <th>host_acceptance_rate</th>\n      <th>host_listings_count</th>\n      <th>host_total_listings_count</th>\n      <th>latitude</th>\n      <th>longitude</th>\n      <th>accommodates</th>\n      <th>bathrooms</th>\n      <th>bedrooms</th>\n      <th>beds</th>\n      <th>...</th>\n      <th>review_scores_cleanliness</th>\n      <th>review_scores_checkin</th>\n      <th>review_scores_communication</th>\n      <th>review_scores_location</th>\n      <th>review_scores_value</th>\n      <th>calculated_host_listings_count</th>\n      <th>reviews_per_month</th>\n      <th>first_review.month</th>\n      <th>first_review.day-of-month</th>\n      <th>first_review.day-of-week</th>\n    </tr>\n  </thead>\n  <tbody>\n    <tr>\n      <td>1</td>\n      <td>0.443719</td>\n      <td>0.644510</td>\n      <td>-0.242303</td>\n      <td>-0.242303</td>\n      <td>-3.328087</td>\n      <td>2.724427</td>\n      <td>-0.672305</td>\n      <td>-0.353468</td>\n      <td>-0.461333</td>\n      <td>-0.632643</td>\n      <td>...</td>\n      <td>0.691457</td>\n      <td>0.482145</td>\n      <td>0.436751</td>\n      <td>-0.484533</td>\n      <td>-0.081019</td>\n      <td>-0.234154</td>\n      <td>1.649715</td>\n      <td>0.029352</td>\n      <td>-0.236889</td>\n      <td>-1.140543</td>\n    </tr>\n    <tr>\n      <td>2</td>\n      <td>-1.538053</td>\n      <td>-0.101817</td>\n      <td>-0.242303</td>\n      <td>-0.242303</td>\n      <td>-3.257216</td>\n      <td>2.980950</td>\n      <td>-0.672305</td>\n      <td>-0.353468</td>\n      <td>-0.461333</td>\n      <td>-0.632643</td>\n      <td>...</td>\n      <td>-0.408617</td>\n      <td>0.482145</td>\n      <td>0.436751</td>\n      <td>-3.110883</td>\n      <td>-0.081019</td>\n      <td>-0.234154</td>\n      <td>-0.770499</td>\n      <td>0.682959</td>\n      <td>0.198105</td>\n      <td>1.422286</td>\n    </tr>\n    <tr>\n      <td>4</td>\n      <td>0.443719</td>\n      <td>-1.243259</td>\n      <td>-0.242303</td>\n      <td>-0.242303</td>\n      <td>-2.561255</td>\n      <td>2.396178</td>\n      <td>-1.344610</td>\n      <td>-0.353468</td>\n      <td>-0.461333</td>\n      <td>-0.632643</td>\n      <td>...</td>\n      <td>-0.408617</td>\n      <td>0.482145</td>\n      <td>0.436751</td>\n      <td>-1.797708</td>\n      <td>-0.081019</td>\n      <td>-0.234154</td>\n      <td>-0.653614</td>\n      <td>-1.604667</td>\n      <td>-1.433123</td>\n      <td>0.568009</td>\n    </tr>\n    <tr>\n      <td>6</td>\n      <td>-0.348990</td>\n      <td>0.644510</td>\n      <td>-0.242303</td>\n      <td>-0.242303</td>\n      <td>-2.580297</td>\n      <td>2.869592</td>\n      <td>1.344610</td>\n      <td>1.119387</td>\n      <td>1.863718</td>\n      <td>2.080173</td>\n      <td>...</td>\n      <td>0.691457</td>\n      <td>0.482145</td>\n      <td>0.436751</td>\n      <td>-0.484533</td>\n      <td>1.084704</td>\n      <td>-0.234154</td>\n      <td>-0.749872</td>\n      <td>1.009763</td>\n      <td>-1.106878</td>\n      <td>-0.286267</td>\n    </tr>\n    <tr>\n      <td>8</td>\n      <td>0.443719</td>\n      <td>-0.233522</td>\n      <td>-0.242303</td>\n      <td>-0.242303</td>\n      <td>-3.118621</td>\n      <td>2.792483</td>\n      <td>0.672305</td>\n      <td>-0.353468</td>\n      <td>0.701192</td>\n      <td>0.045561</td>\n      <td>...</td>\n      <td>0.691457</td>\n      <td>0.482145</td>\n      <td>0.436751</td>\n      <td>0.828641</td>\n      <td>1.084704</td>\n      <td>-0.234154</td>\n      <td>-0.412967</td>\n      <td>0.029352</td>\n      <td>1.285590</td>\n      <td>-1.140543</td>\n    </tr>\n  </tbody>\n</table>\n<p>5 rows × 31 columns</p>\n</div>"
     },
     "execution_count": 405,
     "metadata": {},
     "output_type": "execute_result"
    }
   ],
   "source": [
    "values = test_data.values\n",
    "norm_values, mean, sigma = featureNormalize(values)\n",
    "\n",
    "normalized_data = pd.DataFrame(norm_values, index=test_data.index, columns=test_data.columns)\n",
    "normalized_data.head()"
   ],
   "metadata": {
    "collapsed": false,
    "pycharm": {
     "name": "#%%\n"
    }
   }
  },
  {
   "cell_type": "code",
   "execution_count": 406,
   "outputs": [],
   "source": [
    "m = test_data.shape[0]\n",
    "# Add intercept term to X\n",
    "X = np.concatenate([np.ones((m, 1)), normalized_data], axis=1)"
   ],
   "metadata": {
    "collapsed": false,
    "pycharm": {
     "name": "#%%\n"
    }
   }
  },
  {
   "cell_type": "markdown",
   "source": [
    "testing the model"
   ],
   "metadata": {
    "collapsed": false,
    "pycharm": {
     "name": "#%% md\n"
    }
   }
  },
  {
   "cell_type": "code",
   "execution_count": 407,
   "outputs": [
    {
     "name": "stdout",
     "output_type": "stream",
     "text": [
      "success rate for difference up to 50$ is:  78.6564132327336 %\n"
     ]
    }
   ],
   "source": [
    "predicted_price = np.dot(X, theta)\n",
    "\n",
    "diff_from_truth = np.abs(y_test - predicted_price)\n",
    "success_condition = 50 # dollar per night\n",
    "success_rate = (np.sum(diff_from_truth < 50) * 100) / diff_from_truth.size\n",
    "print('success rate for difference up to 50$ is: ', success_rate,'%')\n"
   ],
   "metadata": {
    "collapsed": false,
    "pycharm": {
     "name": "#%%\n"
    }
   }
  },
  {
   "cell_type": "markdown",
   "source": [
    "## classify cheap or expensive listing using logistic regression ML"
   ],
   "metadata": {
    "collapsed": false,
    "pycharm": {
     "name": "#%% md\n"
    }
   }
  },
  {
   "cell_type": "markdown",
   "source": [
    " we chose dam square to be Amsterdam's center"
   ],
   "metadata": {
    "collapsed": false,
    "pycharm": {
     "name": "#%% md\n"
    }
   }
  },
  {
   "cell_type": "code",
   "execution_count": 408,
   "outputs": [],
   "source": [
    "city_center = Point(52.373204, 4.892694)"
   ],
   "metadata": {
    "collapsed": false,
    "pycharm": {
     "name": "#%%\n"
    }
   }
  },
  {
   "cell_type": "markdown",
   "source": [
    " cost function and optimization"
   ],
   "metadata": {
    "collapsed": false
   }
  },
  {
   "cell_type": "code",
   "execution_count": 409,
   "outputs": [],
   "source": [
    "def sigmoid(z):\n",
    "    \"\"\"\n",
    "    Compute sigmoid function given the input z.\n",
    "\n",
    "    Parameters\n",
    "    ----------\n",
    "    z : array_like\n",
    "        The input to the sigmoid function. This can be a 1-D vector\n",
    "        or a 2-D matrix.\n",
    "\n",
    "    Returns\n",
    "    -------\n",
    "    g : array_like\n",
    "        The computed sigmoid function. g has the same shape as z, since\n",
    "        the sigmoid is computed element-wise on z.\n",
    "\n",
    "    Instructions\n",
    "    ------------\n",
    "    Compute the sigmoid of each value of z (z can be a matrix, vector or scalar).\n",
    "    \"\"\"\n",
    "    # convert input to a numpy array\n",
    "    z = np.array(z)\n",
    "\n",
    "    # You need to return the following variables correctly\n",
    "    g = np.zeros(z.shape)\n",
    "\n",
    "    mat1 = np.ones(z.shape)\n",
    "    g = mat1/(mat1 + np.exp(-z))\n",
    "\n",
    "    return g\n",
    "def costFunction(theta, X, y):\n",
    "    \"\"\"\n",
    "    Compute cost and gradient for logistic regression.\n",
    "\n",
    "    Parameters\n",
    "    ----------\n",
    "    theta : array_like\n",
    "        The parameters for logistic regression. This a vector\n",
    "        of shape (n+1, ).\n",
    "\n",
    "    X : array_like\n",
    "        The input dataset of shape (m x n+1) where m is the total number\n",
    "        of data points and n is the number of features. We assume the\n",
    "        intercept has already been added to the input.\n",
    "\n",
    "    y : arra_like\n",
    "        Labels for the input. This is a vector of shape (m, ).\n",
    "\n",
    "    Returns\n",
    "    -------\n",
    "    J : float\n",
    "        The computed value for the cost function.\n",
    "\n",
    "    grad : array_like\n",
    "        A vector of shape (n+1, ) which is the gradient of the cost\n",
    "        function with respect to theta, at the current values of theta.\n",
    "\n",
    "    Instructions\n",
    "    ------------\n",
    "    Compute the cost of a particular choice of theta. You should set J to\n",
    "    the cost. Compute the partial derivatives and set grad to the partial\n",
    "    derivatives of the cost w.r.t. each parameter in theta.\n",
    "    \"\"\"\n",
    "    # Initialize some useful values\n",
    "    m = y.size  # number of training examples\n",
    "\n",
    "    J = 0\n",
    "    grad = np.zeros(theta.shape)\n",
    "\n",
    "    J = (1/m) * (np.dot((-y).T,np.log(sigmoid(np.dot(X,theta)))) - np.dot((1-y).T,np.log(1-sigmoid(np.dot(X,theta)))))\n",
    "    grad = (1/m) * np.dot(X.T,(sigmoid(np.dot(X,theta))-y))\n",
    "\n",
    "    # =============================================================\n",
    "    return J, grad"
   ],
   "metadata": {
    "collapsed": false,
    "pycharm": {
     "name": "#%%\n"
    }
   }
  },
  {
   "cell_type": "markdown",
   "source": [
    " measure distance from downtown"
   ],
   "metadata": {
    "collapsed": false
   }
  },
  {
   "cell_type": "code",
   "execution_count": 410,
   "outputs": [
    {
     "data": {
      "text/plain": "                                             0\n0  POINT (52.32336931905056 4.977729820098881)\n1  POINT (52.31563541152141 4.978166362035691)\n2  POINT (52.31671072387667 4.986617637373466)\n3  POINT (52.32727036486493 4.967351995112772)\n4  POINT (52.32698144329306 4.982948910311372)",
      "text/html": "<div>\n<style scoped>\n    .dataframe tbody tr th:only-of-type {\n        vertical-align: middle;\n    }\n\n    .dataframe tbody tr th {\n        vertical-align: top;\n    }\n\n    .dataframe thead th {\n        text-align: right;\n    }\n</style>\n<table border=\"1\" class=\"dataframe\">\n  <thead>\n    <tr style=\"text-align: right;\">\n      <th></th>\n      <th>0</th>\n    </tr>\n  </thead>\n  <tbody>\n    <tr>\n      <td>0</td>\n      <td>POINT (52.32336931905056 4.977729820098881)</td>\n    </tr>\n    <tr>\n      <td>1</td>\n      <td>POINT (52.31563541152141 4.978166362035691)</td>\n    </tr>\n    <tr>\n      <td>2</td>\n      <td>POINT (52.31671072387667 4.986617637373466)</td>\n    </tr>\n    <tr>\n      <td>3</td>\n      <td>POINT (52.32727036486493 4.967351995112772)</td>\n    </tr>\n    <tr>\n      <td>4</td>\n      <td>POINT (52.32698144329306 4.982948910311372)</td>\n    </tr>\n  </tbody>\n</table>\n</div>"
     },
     "execution_count": 410,
     "metadata": {},
     "output_type": "execute_result"
    }
   ],
   "source": [
    "geometry = []\n",
    "for index, row in cleaned_data.iterrows() :\n",
    "    geometry.append(Point(row['latitude'], row['longitude']))\n",
    "\n",
    "geo_data = gpd.GeoDataFrame(geometry)\n",
    "geo_data.head()"
   ],
   "metadata": {
    "collapsed": false,
    "pycharm": {
     "name": "#%%\n"
    }
   }
  },
  {
   "cell_type": "markdown",
   "source": [
    " create cheap\\expensive feature = y"
   ],
   "metadata": {
    "collapsed": false
   }
  },
  {
   "cell_type": "code",
   "execution_count": 410,
   "outputs": [],
   "source": [],
   "metadata": {
    "collapsed": false,
    "pycharm": {
     "name": "#%%\n"
    }
   }
  },
  {
   "cell_type": "markdown",
   "source": [
    " create data frame with only distance and room type features = X\n",
    " translate room type to 1/0"
   ],
   "metadata": {
    "collapsed": false
   }
  },
  {
   "cell_type": "code",
   "execution_count": 410,
   "outputs": [],
   "source": [],
   "metadata": {
    "collapsed": false,
    "pycharm": {
     "name": "#%%\n"
    }
   }
  },
  {
   "cell_type": "markdown",
   "source": [
    " visualize the data"
   ],
   "metadata": {
    "collapsed": false
   }
  },
  {
   "cell_type": "code",
   "execution_count": 410,
   "outputs": [],
   "source": [],
   "metadata": {
    "collapsed": false,
    "pycharm": {
     "name": "#%%\n"
    }
   }
  },
  {
   "cell_type": "markdown",
   "source": [
    " choosing train and test data"
   ],
   "metadata": {
    "collapsed": false
   }
  },
  {
   "cell_type": "code",
   "execution_count": 410,
   "outputs": [],
   "source": [],
   "metadata": {
    "collapsed": false,
    "pycharm": {
     "name": "#%%\n"
    }
   }
  },
  {
   "cell_type": "markdown",
   "source": [
    " normalize the data"
   ],
   "metadata": {
    "collapsed": false
   }
  },
  {
   "cell_type": "code",
   "execution_count": 410,
   "outputs": [],
   "source": [],
   "metadata": {
    "collapsed": false,
    "pycharm": {
     "name": "#%%\n"
    }
   }
  },
  {
   "cell_type": "markdown",
   "source": [
    " concatenate X"
   ],
   "metadata": {
    "collapsed": false
   }
  },
  {
   "cell_type": "code",
   "execution_count": 410,
   "outputs": [],
   "source": [],
   "metadata": {
    "collapsed": false,
    "pycharm": {
     "name": "#%%\n"
    }
   }
  },
  {
   "cell_type": "markdown",
   "source": [
    "using the model"
   ],
   "metadata": {
    "collapsed": false
   }
  },
  {
   "cell_type": "code",
   "execution_count": 410,
   "outputs": [],
   "source": [],
   "metadata": {
    "collapsed": false,
    "pycharm": {
     "name": "#%%\n"
    }
   }
  },
  {
   "cell_type": "markdown",
   "source": [
    " predict and success rate"
   ],
   "metadata": {
    "collapsed": false
   }
  },
  {
   "cell_type": "code",
   "execution_count": 410,
   "outputs": [],
   "source": [
    "\n",
    "\n",
    "\n"
   ],
   "metadata": {
    "collapsed": false,
    "pycharm": {
     "name": "#%%\n"
    }
   }
  }
 ],
 "metadata": {
  "kernelspec": {
   "display_name": "Python 3",
   "language": "python",
   "name": "python3"
  },
  "language_info": {
   "codemirror_mode": {
    "name": "ipython",
    "version": 2
   },
   "file_extension": ".py",
   "mimetype": "text/x-python",
   "name": "python",
   "nbconvert_exporter": "python",
   "pygments_lexer": "ipython2",
   "version": "2.7.6"
  }
 },
 "nbformat": 4,
 "nbformat_minor": 0
}