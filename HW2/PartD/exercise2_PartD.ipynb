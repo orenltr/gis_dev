{
 "cells": [
  {
   "cell_type": "code",
   "execution_count": 0,
   "metadata": {
    "collapsed": true
   },
   "outputs": [],
   "source": []
  },
  {
   "cell_type": "code",
   "execution_count": 1,
   "metadata": {
    "pycharm": {
     "name": "#%%\n"
    }
   },
   "outputs": [],
   "source": [
    "# used to handle data\n",
    "import pandas as pd\n",
    "\n",
    "# used to handle geo data\n",
    "from shapely.ops import transform, Point\n",
    "from geopandas.tools import reverse_geocode\n",
    "import geopandas as gpd\n",
    "\n",
    "# used for manipulating directory paths\n",
    "import os\n",
    "\n",
    "# Scientific and vector computation for python\n",
    "import numpy as np\n",
    "\n",
    "# Optimization module in scipy\n",
    "from scipy import optimize\n",
    "\n",
    "# library written for this exercise providing additional functions for assignment submission, and others\n",
    "import utils\n",
    "\n",
    "# Plotting library\n",
    "from matplotlib import pyplot as plt\n",
    "\n",
    "# tells matplotlib to embed plots within the notebook\n",
    "%matplotlib inline\n",
    "\n",
    "import sys\n",
    "sys.path.append('./')\n",
    "\n",
    "\n"
   ]
  },
  {
   "cell_type": "markdown",
   "metadata": {
    "pycharm": {
     "name": "#%% md\n"
    }
   },
   "source": [
    "read AIRBNB data"
   ]
  },
  {
   "cell_type": "code",
   "execution_count": 2,
   "metadata": {
    "pycharm": {
     "name": "#%%\n"
    }
   },
   "outputs": [
    {
     "data": {
      "text/plain": "         id                            listing_url       scrape_id  \\\n0   9784567   https://www.airbnb.com/rooms/9784567  20160704013910   \n1  13163805  https://www.airbnb.com/rooms/13163805  20160704013910   \n2   3719167   https://www.airbnb.com/rooms/3719167  20160704013910   \n3  13188367  https://www.airbnb.com/rooms/13188367  20160704013910   \n4   4831606   https://www.airbnb.com/rooms/4831606  20160704013910   \n\n  last_scraped                                               name  \\\n0   2016-07-04                             nice Room in Amsterdam   \n1   2016-07-04        Best cost benefit room near a metro station   \n2   2016-07-04  Nice  room in A´dam SE near nature & heart centre   \n3   2016-07-04     Private room 15min metro ride from city center   \n4   2016-07-04    Room in Amsterdam in a new house!! Free Bicycle   \n\n                                             summary  \\\n0  nice Room 20 Min.to Amst.center 10 minutes wal...   \n1  We (me and my wife) are constantly improving o...   \n2  I offer a beautiful 19 sqm room in a house on ...   \n3  The apartment is located a 15min ride from the...   \n4  In Amsterdam Zuidoost (20 minutes to central s...   \n\n                                               space  \\\n0                                                NaN   \n1                                                NaN   \n2  The location is close to the shops, public tra...   \n3                                                NaN   \n4                                           Smart tv   \n\n                                         description experiences_offered  \\\n0  nice Room 20 Min.to Amst.center 10 minutes wal...                none   \n1  We (me and my wife) are constantly improving o...                none   \n2  I offer a beautiful 19 sqm room in a house on ...                none   \n3  The apartment is located a 15min ride from the...                none   \n4  In Amsterdam Zuidoost (20 minutes to central s...                none   \n\n                               neighborhood_overview  ...  \\\n0              nice Park metro in front bus in front  ...   \n1                                                NaN  ...   \n2  A lot of different internationalities and cult...  ...   \n3                                                NaN  ...   \n4                                                NaN  ...   \n\n  calendar_last_scraped.day-of-month calendar_last_scraped.day-of-week  \\\n0                                  4                                 1   \n1                                  4                                 1   \n2                                  4                                 1   \n3                                  4                                 1   \n4                                  4                                 1   \n\n  first_review.year first_review.month first_review.day-of-month  \\\n0            2016.0                1.0                       2.0   \n1            2016.0                6.0                      13.0   \n2            2014.0                8.0                      17.0   \n3            2016.0                5.0                      29.0   \n4            2015.0                1.0                       2.0   \n\n  first_review.day-of-week last_review.year last_review.month  \\\n0                      6.0           2016.0               6.0   \n1                      1.0           2016.0               6.0   \n2                      7.0           2016.0               1.0   \n3                      7.0           2016.0               5.0   \n4                      5.0           2016.0               3.0   \n\n  last_review.day-of-month  last_review.day-of-week  \n0                     27.0                      1.0  \n1                     27.0                      1.0  \n2                      2.0                      6.0  \n3                     31.0                      2.0  \n4                     22.0                      2.0  \n\n[5 rows x 115 columns]",
      "text/html": "<div>\n<style scoped>\n    .dataframe tbody tr th:only-of-type {\n        vertical-align: middle;\n    }\n\n    .dataframe tbody tr th {\n        vertical-align: top;\n    }\n\n    .dataframe thead th {\n        text-align: right;\n    }\n</style>\n<table border=\"1\" class=\"dataframe\">\n  <thead>\n    <tr style=\"text-align: right;\">\n      <th></th>\n      <th>id</th>\n      <th>listing_url</th>\n      <th>scrape_id</th>\n      <th>last_scraped</th>\n      <th>name</th>\n      <th>summary</th>\n      <th>space</th>\n      <th>description</th>\n      <th>experiences_offered</th>\n      <th>neighborhood_overview</th>\n      <th>...</th>\n      <th>calendar_last_scraped.day-of-month</th>\n      <th>calendar_last_scraped.day-of-week</th>\n      <th>first_review.year</th>\n      <th>first_review.month</th>\n      <th>first_review.day-of-month</th>\n      <th>first_review.day-of-week</th>\n      <th>last_review.year</th>\n      <th>last_review.month</th>\n      <th>last_review.day-of-month</th>\n      <th>last_review.day-of-week</th>\n    </tr>\n  </thead>\n  <tbody>\n    <tr>\n      <td>0</td>\n      <td>9784567</td>\n      <td>https://www.airbnb.com/rooms/9784567</td>\n      <td>20160704013910</td>\n      <td>2016-07-04</td>\n      <td>nice Room in Amsterdam</td>\n      <td>nice Room 20 Min.to Amst.center 10 minutes wal...</td>\n      <td>NaN</td>\n      <td>nice Room 20 Min.to Amst.center 10 minutes wal...</td>\n      <td>none</td>\n      <td>nice Park metro in front bus in front</td>\n      <td>...</td>\n      <td>4</td>\n      <td>1</td>\n      <td>2016.0</td>\n      <td>1.0</td>\n      <td>2.0</td>\n      <td>6.0</td>\n      <td>2016.0</td>\n      <td>6.0</td>\n      <td>27.0</td>\n      <td>1.0</td>\n    </tr>\n    <tr>\n      <td>1</td>\n      <td>13163805</td>\n      <td>https://www.airbnb.com/rooms/13163805</td>\n      <td>20160704013910</td>\n      <td>2016-07-04</td>\n      <td>Best cost benefit room near a metro station</td>\n      <td>We (me and my wife) are constantly improving o...</td>\n      <td>NaN</td>\n      <td>We (me and my wife) are constantly improving o...</td>\n      <td>none</td>\n      <td>NaN</td>\n      <td>...</td>\n      <td>4</td>\n      <td>1</td>\n      <td>2016.0</td>\n      <td>6.0</td>\n      <td>13.0</td>\n      <td>1.0</td>\n      <td>2016.0</td>\n      <td>6.0</td>\n      <td>27.0</td>\n      <td>1.0</td>\n    </tr>\n    <tr>\n      <td>2</td>\n      <td>3719167</td>\n      <td>https://www.airbnb.com/rooms/3719167</td>\n      <td>20160704013910</td>\n      <td>2016-07-04</td>\n      <td>Nice  room in A´dam SE near nature &amp; heart centre</td>\n      <td>I offer a beautiful 19 sqm room in a house on ...</td>\n      <td>The location is close to the shops, public tra...</td>\n      <td>I offer a beautiful 19 sqm room in a house on ...</td>\n      <td>none</td>\n      <td>A lot of different internationalities and cult...</td>\n      <td>...</td>\n      <td>4</td>\n      <td>1</td>\n      <td>2014.0</td>\n      <td>8.0</td>\n      <td>17.0</td>\n      <td>7.0</td>\n      <td>2016.0</td>\n      <td>1.0</td>\n      <td>2.0</td>\n      <td>6.0</td>\n    </tr>\n    <tr>\n      <td>3</td>\n      <td>13188367</td>\n      <td>https://www.airbnb.com/rooms/13188367</td>\n      <td>20160704013910</td>\n      <td>2016-07-04</td>\n      <td>Private room 15min metro ride from city center</td>\n      <td>The apartment is located a 15min ride from the...</td>\n      <td>NaN</td>\n      <td>The apartment is located a 15min ride from the...</td>\n      <td>none</td>\n      <td>NaN</td>\n      <td>...</td>\n      <td>4</td>\n      <td>1</td>\n      <td>2016.0</td>\n      <td>5.0</td>\n      <td>29.0</td>\n      <td>7.0</td>\n      <td>2016.0</td>\n      <td>5.0</td>\n      <td>31.0</td>\n      <td>2.0</td>\n    </tr>\n    <tr>\n      <td>4</td>\n      <td>4831606</td>\n      <td>https://www.airbnb.com/rooms/4831606</td>\n      <td>20160704013910</td>\n      <td>2016-07-04</td>\n      <td>Room in Amsterdam in a new house!! Free Bicycle</td>\n      <td>In Amsterdam Zuidoost (20 minutes to central s...</td>\n      <td>Smart tv</td>\n      <td>In Amsterdam Zuidoost (20 minutes to central s...</td>\n      <td>none</td>\n      <td>NaN</td>\n      <td>...</td>\n      <td>4</td>\n      <td>1</td>\n      <td>2015.0</td>\n      <td>1.0</td>\n      <td>2.0</td>\n      <td>5.0</td>\n      <td>2016.0</td>\n      <td>3.0</td>\n      <td>22.0</td>\n      <td>2.0</td>\n    </tr>\n  </tbody>\n</table>\n<p>5 rows × 115 columns</p>\n</div>"
     },
     "execution_count": 2,
     "metadata": {},
     "output_type": "execute_result"
    }
   ],
   "source": [
    "data = pd.read_csv('BigML_Dataset_5dd97775fb7bdd184c00024f.csv')\n",
    "data.head()"
   ]
  },
  {
   "cell_type": "markdown",
   "metadata": {
    "pycharm": {
     "name": "#%% md\n"
    }
   },
   "source": [
    "## ''cleaning' the data\n"
   ]
  },
  {
   "cell_type": "code",
   "execution_count": 3,
   "metadata": {
    "pycharm": {
     "name": "#%%\n"
    }
   },
   "outputs": [],
   "source": [
    "# we want to use only numeric data for the linear regression\n",
    "numeric_data = data.select_dtypes(exclude=['object'])"
   ]
  },
  {
   "cell_type": "markdown",
   "metadata": {},
   "source": [
    "remove data that seems irrelevant for pricing"
   ]
  },
  {
   "cell_type": "code",
   "execution_count": 4,
   "metadata": {
    "pycharm": {
     "name": "#%%\n"
    }
   },
   "outputs": [],
   "source": [
    "# remove unrelevant features\n",
    "relevant_data = numeric_data.drop(columns=['id','scrape_id','host_id',\n",
    "                                           'last_scraped.year','last_scraped.month','last_scraped.day-of-month',\n",
    "                                           'last_scraped.day-of-week','host_since.month','host_since.year'\n",
    "                                           ,'host_since.day-of-month','host_since.day-of-week','calendar_last_scraped.year'\n",
    "                                           ,'calendar_last_scraped.month','calendar_last_scraped.day-of-month','calendar_last_scraped.day-of-week'\n",
    "                                           ,'last_review.year','last_review.month','last_review.day-of-month','last_review.day-of-week'\n",
    "                                           ,'first_review.year'])\n",
    "                                           # ,'first_review.month','first_review.day-of-month','first_review.day-of-week'\n",
    "                                           # ,'last_review.month','availability_30','availability_60','availability_90','availability_365',])\n",
    "\n",
    "del numeric_data"
   ]
  },
  {
   "cell_type": "markdown",
   "metadata": {
    "pycharm": {
     "name": "#%% md\n"
    }
   },
   "source": [
    "removing rows and columns that contains significant amount of nans"
   ]
  },
  {
   "cell_type": "code",
   "execution_count": 5,
   "metadata": {
    "pycharm": {
     "name": "#%%\n"
    }
   },
   "outputs": [],
   "source": [
    "relevant_data.dropna(axis='columns', thresh= data.shape[0]*0.8, inplace=True)\n",
    "relevant_data.dropna(axis='index', inplace=True)\n"
   ]
  },
  {
   "cell_type": "markdown",
   "metadata": {},
   "source": [
    "choose training data and testing data randomly"
   ]
  },
  {
   "cell_type": "code",
   "execution_count": 6,
   "metadata": {
    "pycharm": {
     "name": "#%%\n"
    }
   },
   "outputs": [],
   "source": [
    "# we randomly choose 80% of the data to train the model with\n",
    "train_data = relevant_data.sample(frac = 0.8)\n",
    "\n",
    "# taking out from the dataframe the price because it is the feature we try to predict\n",
    "y_train = train_data['price'].values\n",
    "train_data = train_data.drop(columns='price')"
   ]
  },
  {
   "cell_type": "code",
   "execution_count": 7,
   "metadata": {
    "pycharm": {
     "name": "#%%\n"
    }
   },
   "outputs": [],
   "source": [
    "# the test data is the remaining 20% of the data\n",
    "test_data = relevant_data.loc[relevant_data.index.difference(train_data.index)]\n",
    "y_test = test_data['price'].values\n",
    "test_data = test_data.drop(columns='price')"
   ]
  },
  {
   "cell_type": "markdown",
   "metadata": {},
   "source": [
    "create feature normalize function"
   ]
  },
  {
   "cell_type": "code",
   "execution_count": 8,
   "metadata": {
    "pycharm": {
     "name": "#%%\n"
    }
   },
   "outputs": [],
   "source": [
    "# function for normalize values\n",
    "def featureNormalize(X):\n",
    "    \"\"\"\n",
    "    Normalizes the features in X. returns a normalized version of X where\n",
    "    the mean value of each feature is 0 and the standard deviation\n",
    "    is 1. This is often a good preprocessing step to do when working with\n",
    "    learning algorithms.\n",
    "\n",
    "    Parameters\n",
    "    ----------\n",
    "    X : array_like\n",
    "        The dataset of shape (m x n).\n",
    "\n",
    "    Returns\n",
    "    -------\n",
    "    X_norm : array_like\n",
    "        The normalized dataset of shape (m x n).\n",
    "\n",
    "    \"\"\"\n",
    "    X_norm = X.copy()\n",
    "    mu = np.zeros(X.shape[1])\n",
    "    sigma = np.zeros(X.shape[1])\n",
    "\n",
    "    n = (X.shape[0])\n",
    "    mu = np.average(X, 0)\n",
    "    mat1 = np.dot(mu.T[:, None], np.ones([1, n])).T\n",
    "    X_norm = X_norm - mat1\n",
    "\n",
    "    sigma = np.std(X, 0)\n",
    "    mat2 = np.dot(sigma.T[:, None], np.ones([1, n])).T\n",
    "    X_norm = X_norm / mat2\n",
    "\n",
    "    return X_norm, mu, sigma"
   ]
  },
  {
   "cell_type": "markdown",
   "metadata": {},
   "source": [
    "normalize values for visualization"
   ]
  },
  {
   "cell_type": "code",
   "execution_count": 9,
   "metadata": {
    "pycharm": {
     "name": "#%%\n"
    }
   },
   "outputs": [
    {
     "data": {
      "text/plain": "    host_response_rate  host_acceptance_rate  host_listings_count  \\\n2            -1.559596             -0.111606            -0.241327   \n3            -3.575116             -1.574417            -0.241327   \n6            -0.350284              0.641963            -0.241327   \n9            -4.945670             -0.820848            -0.241327   \n13            0.455925              0.641963            -0.241327   \n\n    host_total_listings_count  latitude  longitude  accommodates  bathrooms  \\\n2                   -0.241327 -3.151169   2.907209     -0.679899  -0.333462   \n3                   -0.241327 -2.863290   2.610820     -0.047266   1.110535   \n6                   -0.241327 -2.493195   2.798337      1.218000   1.110535   \n9                   -0.241327 -3.296965   2.780589      0.585367  -0.333462   \n13                  -0.241327 -2.873661   2.642427     -0.679899  -0.333462   \n\n    bedrooms      beds  ...  review_scores_cleanliness  review_scores_checkin  \\\n2  -0.456908 -0.622775  ...                  -0.333880               0.473681   \n3  -0.456908 -0.622775  ...                   0.682092               0.473681   \n6   1.668297  1.943408  ...                   0.682092               0.473681   \n9   0.605695  0.018770  ...                   0.682092               0.473681   \n13 -0.456908 -0.622775  ...                  -2.365826              -0.753147   \n\n    review_scores_communication  review_scores_location  review_scores_value  \\\n2                      0.437056               -3.042995            -0.033165   \n3                      0.437056                0.833836             1.080477   \n6                      0.437056               -0.458441             1.080477   \n9                      0.437056                0.833836             1.080477   \n13                     0.437056               -3.042995            -0.033165   \n\n    calculated_host_listings_count  reviews_per_month  first_review.month  \\\n2                        -0.233749          -0.776031            0.669377   \n3                        -0.233749          -0.000654           -0.338110   \n6                        -0.233749          -0.755626            1.005206   \n9                        -0.233749          -0.714817           -0.338110   \n13                       -0.233749          -0.095876           -0.338110   \n\n    first_review.day-of-month  first_review.day-of-week  \n2                    0.200743                  1.418081  \n3                    1.515069                  1.418081  \n6                   -1.113583                 -0.282017  \n9                   -0.237366                  0.568032  \n13                  -1.113583                  0.143007  \n\n[5 rows x 31 columns]",
      "text/html": "<div>\n<style scoped>\n    .dataframe tbody tr th:only-of-type {\n        vertical-align: middle;\n    }\n\n    .dataframe tbody tr th {\n        vertical-align: top;\n    }\n\n    .dataframe thead th {\n        text-align: right;\n    }\n</style>\n<table border=\"1\" class=\"dataframe\">\n  <thead>\n    <tr style=\"text-align: right;\">\n      <th></th>\n      <th>host_response_rate</th>\n      <th>host_acceptance_rate</th>\n      <th>host_listings_count</th>\n      <th>host_total_listings_count</th>\n      <th>latitude</th>\n      <th>longitude</th>\n      <th>accommodates</th>\n      <th>bathrooms</th>\n      <th>bedrooms</th>\n      <th>beds</th>\n      <th>...</th>\n      <th>review_scores_cleanliness</th>\n      <th>review_scores_checkin</th>\n      <th>review_scores_communication</th>\n      <th>review_scores_location</th>\n      <th>review_scores_value</th>\n      <th>calculated_host_listings_count</th>\n      <th>reviews_per_month</th>\n      <th>first_review.month</th>\n      <th>first_review.day-of-month</th>\n      <th>first_review.day-of-week</th>\n    </tr>\n  </thead>\n  <tbody>\n    <tr>\n      <td>2</td>\n      <td>-1.559596</td>\n      <td>-0.111606</td>\n      <td>-0.241327</td>\n      <td>-0.241327</td>\n      <td>-3.151169</td>\n      <td>2.907209</td>\n      <td>-0.679899</td>\n      <td>-0.333462</td>\n      <td>-0.456908</td>\n      <td>-0.622775</td>\n      <td>...</td>\n      <td>-0.333880</td>\n      <td>0.473681</td>\n      <td>0.437056</td>\n      <td>-3.042995</td>\n      <td>-0.033165</td>\n      <td>-0.233749</td>\n      <td>-0.776031</td>\n      <td>0.669377</td>\n      <td>0.200743</td>\n      <td>1.418081</td>\n    </tr>\n    <tr>\n      <td>3</td>\n      <td>-3.575116</td>\n      <td>-1.574417</td>\n      <td>-0.241327</td>\n      <td>-0.241327</td>\n      <td>-2.863290</td>\n      <td>2.610820</td>\n      <td>-0.047266</td>\n      <td>1.110535</td>\n      <td>-0.456908</td>\n      <td>-0.622775</td>\n      <td>...</td>\n      <td>0.682092</td>\n      <td>0.473681</td>\n      <td>0.437056</td>\n      <td>0.833836</td>\n      <td>1.080477</td>\n      <td>-0.233749</td>\n      <td>-0.000654</td>\n      <td>-0.338110</td>\n      <td>1.515069</td>\n      <td>1.418081</td>\n    </tr>\n    <tr>\n      <td>6</td>\n      <td>-0.350284</td>\n      <td>0.641963</td>\n      <td>-0.241327</td>\n      <td>-0.241327</td>\n      <td>-2.493195</td>\n      <td>2.798337</td>\n      <td>1.218000</td>\n      <td>1.110535</td>\n      <td>1.668297</td>\n      <td>1.943408</td>\n      <td>...</td>\n      <td>0.682092</td>\n      <td>0.473681</td>\n      <td>0.437056</td>\n      <td>-0.458441</td>\n      <td>1.080477</td>\n      <td>-0.233749</td>\n      <td>-0.755626</td>\n      <td>1.005206</td>\n      <td>-1.113583</td>\n      <td>-0.282017</td>\n    </tr>\n    <tr>\n      <td>9</td>\n      <td>-4.945670</td>\n      <td>-0.820848</td>\n      <td>-0.241327</td>\n      <td>-0.241327</td>\n      <td>-3.296965</td>\n      <td>2.780589</td>\n      <td>0.585367</td>\n      <td>-0.333462</td>\n      <td>0.605695</td>\n      <td>0.018770</td>\n      <td>...</td>\n      <td>0.682092</td>\n      <td>0.473681</td>\n      <td>0.437056</td>\n      <td>0.833836</td>\n      <td>1.080477</td>\n      <td>-0.233749</td>\n      <td>-0.714817</td>\n      <td>-0.338110</td>\n      <td>-0.237366</td>\n      <td>0.568032</td>\n    </tr>\n    <tr>\n      <td>13</td>\n      <td>0.455925</td>\n      <td>0.641963</td>\n      <td>-0.241327</td>\n      <td>-0.241327</td>\n      <td>-2.873661</td>\n      <td>2.642427</td>\n      <td>-0.679899</td>\n      <td>-0.333462</td>\n      <td>-0.456908</td>\n      <td>-0.622775</td>\n      <td>...</td>\n      <td>-2.365826</td>\n      <td>-0.753147</td>\n      <td>0.437056</td>\n      <td>-3.042995</td>\n      <td>-0.033165</td>\n      <td>-0.233749</td>\n      <td>-0.095876</td>\n      <td>-0.338110</td>\n      <td>-1.113583</td>\n      <td>0.143007</td>\n    </tr>\n  </tbody>\n</table>\n<p>5 rows × 31 columns</p>\n</div>"
     },
     "execution_count": 9,
     "metadata": {},
     "output_type": "execute_result"
    }
   ],
   "source": [
    "values = test_data.values\n",
    "norm_values, mean, sigma = featureNormalize(values)\n",
    "\n",
    "normalized_training_data = pd.DataFrame(norm_values, index=test_data.index, columns=test_data.columns)\n",
    "normalized_training_data.head()"
   ]
  },
  {
   "cell_type": "markdown",
   "metadata": {
    "pycharm": {
     "name": "#%% md\n"
    }
   },
   "source": [
    "visualize the data"
   ]
  },
  {
   "cell_type": "code",
   "execution_count": 10,
   "metadata": {
    "pycharm": {
     "name": "#%%\n"
    }
   },
   "outputs": [
    {
     "data": {
      "text/plain": "<Figure size 432x288 with 1 Axes>",
      "image/png": "[encoded data removed]"
     },
     "metadata": {
      "needs_background": "light"
     },
     "output_type": "display_data"
    }
   ],
   "source": [
    "plt.figure()\n",
    "\n",
    "ax = plt.scatter(normalized_training_data['review_scores_rating'].values, y_test, label= 'review_scores_rating')\n",
    "plt.scatter(normalized_training_data['review_scores_cleanliness'].values, y_test, label= 'review_scores_cleanliness')\n",
    "plt.scatter(normalized_training_data['number_of_reviews'].values, y_test, label= 'number_of_reviews')\n",
    "plt.scatter(normalized_training_data['review_scores_communication'].values, y_test, label= 'review_scores_communication')\n",
    "\n",
    "plt.legend()\n",
    "plt.show()"
   ]
  },
  {
   "cell_type": "markdown",
   "metadata": {
    "pycharm": {
     "name": "#%% md\n"
    }
   },
   "source": [
    "compute cost and gradient decent functions"
   ]
  },
  {
   "cell_type": "code",
   "execution_count": 11,
   "metadata": {
    "pycharm": {
     "name": "#%%\n"
    }
   },
   "outputs": [],
   "source": [
    "def computeCost(X, y, theta):\n",
    "    \"\"\"\n",
    "    Compute cost for linear regression. Computes the cost of using theta as the\n",
    "    parameter for linear regression to fit the data points in X and y.\n",
    "\n",
    "    Parameters\n",
    "    ----------\n",
    "    X : array_like\n",
    "        The input dataset of shape (m x n+1), where m is the number of examples,\n",
    "        and n is the number of features. We assume a vector of one's already\n",
    "        appended to the features so we have n+1 columns.\n",
    "\n",
    "    y : array_like\n",
    "        The values of the function at each data point. This is a vector of\n",
    "        shape (m, ).\n",
    "\n",
    "    theta : array_like\n",
    "        The parameters for the regression function. This is a vector of\n",
    "        shape (n+1, ).\n",
    "\n",
    "    Returns\n",
    "    -------\n",
    "    J : float\n",
    "        The value of the regression cost function.\n",
    "\n",
    "    Instructions\n",
    "    ------------\n",
    "    Compute the cost of a particular choice of theta.\n",
    "    You should set J to the cost.\n",
    "    \"\"\"\n",
    "\n",
    "    # initialize some useful values\n",
    "    m = y.size  # number of training examples\n",
    "\n",
    "    # You need to return the following variables correctly\n",
    "    J = 0\n",
    "\n",
    "    # ====================== YOUR CODE HERE =====================\n",
    "    J = 1/(2*m)*np.dot((np.dot(X,theta) - y).T,(np.dot(X,theta) - y))\n",
    "\n",
    "    # ===========================================================\n",
    "    return J\n",
    "\n",
    "def gradientDescent(X, y, theta, alpha, num_iters):\n",
    "    \"\"\"\n",
    "    Performs gradient descent to learn `theta`. Updates theta by taking `num_iters`\n",
    "    gradient steps with learning rate `alpha`.\n",
    "\n",
    "    Parameters\n",
    "    ----------\n",
    "    X : array_like\n",
    "        The input dataset of shape (m x n+1).\n",
    "\n",
    "    y : arra_like\n",
    "        Value at given features. A vector of shape (m, ).\n",
    "\n",
    "    theta : array_like\n",
    "        Initial values for the linear regression parameters.\n",
    "        A vector of shape (n+1, ).\n",
    "\n",
    "    alpha : float\n",
    "        The learning rate.\n",
    "\n",
    "    num_iters : int\n",
    "        The number of iterations for gradient descent.\n",
    "\n",
    "    Returns\n",
    "    -------\n",
    "    theta : array_like\n",
    "        The learned linear regression parameters. A vector of shape (n+1, ).\n",
    "\n",
    "    J_history : list\n",
    "        A python list for the values of the cost function after each iteration.\n",
    "\n",
    "    Instructions\n",
    "    ------------\n",
    "    Peform a single gradient step on the parameter vector theta.\n",
    "\n",
    "    While debugging, it can be useful to print out the values of\n",
    "    the cost function (computeCost) and gradient here.\n",
    "    \"\"\"\n",
    "    # Initialize some useful values\n",
    "    m = y.shape[0]  # number of training examples\n",
    "\n",
    "    # make a copy of theta, to avoid changing the original array, since numpy arrays\n",
    "    # are passed by reference to functions\n",
    "    theta = theta.copy()\n",
    "\n",
    "    J_history = [] # Use a python list to save cost in every iteration\n",
    "\n",
    "    for i in range(num_iters):\n",
    "        # ==================== YOUR CODE HERE =================================\n",
    "\n",
    "        theta = theta - (alpha/m)*np.dot(X.T,(np.dot(X,theta)-y))\n",
    "        # =====================================================================\n",
    "\n",
    "        # save the cost J in every iteration\n",
    "        J_history.append(computeCost(X, y, theta))\n",
    "\n",
    "    return theta, J_history\n",
    "\n",
    "\n"
   ]
  },
  {
   "cell_type": "code",
   "execution_count": 12,
   "metadata": {
    "pycharm": {
     "name": "#%%\n"
    }
   },
   "outputs": [
    {
     "data": {
      "text/plain": "       host_response_rate  host_acceptance_rate  host_listings_count  \\\n2009             0.442530             -0.178082            -0.149576   \n5973             0.365314              0.560889             3.452163   \n11852           -2.646094              0.039262            -0.241929   \n995             -0.329626              0.213138            -0.195753   \n6675            -4.730915              0.647827            -0.241929   \n\n       host_total_listings_count  latitude  longitude  accommodates  \\\n2009                   -0.149576  0.877164  -0.198248      0.012467   \n5973                    3.452163 -1.573731   0.864292      0.689465   \n11852                  -0.241929  0.563733  -0.904727     -0.664532   \n995                    -0.195753 -0.624544   3.174741     -1.341531   \n6675                   -0.241929  0.535735  -0.387479      0.012467   \n\n       bathrooms  bedrooms      beds  ...  review_scores_cleanliness  \\\n2009   -0.347635 -0.452619 -0.634262  ...                  -1.516980   \n5973    1.117330  0.730215  0.056177  ...                   0.705447   \n11852  -0.347635  0.730215 -0.634262  ...                   0.705447   \n995    -0.347635 -0.452619 -0.634262  ...                   0.705447   \n6675   -0.347635 -0.452619 -0.634262  ...                  -3.739408   \n\n       review_scores_checkin  review_scores_communication  \\\n2009               -0.939748                    -1.098133   \n5973                0.485133                     0.441868   \n11852               0.485133                     0.441868   \n995                 0.485133                     0.441868   \n6675               -0.939748                    -1.098133   \n\n       review_scores_location  review_scores_value  \\\n2009                -0.488316            -0.094373   \n5973                -1.805343             1.092181   \n11852                0.828710             1.092181   \n995                  0.828710             1.092181   \n6675                -0.488316            -2.467479   \n\n       calculated_host_listings_count  reviews_per_month  first_review.month  \\\n2009                        -0.184831          -0.169160           -0.295573   \n5973                         3.225778          -0.987627           -1.609477   \n11852                       -0.234261          -0.918849           -1.609477   \n995                         -0.184831          -0.409885            0.361379   \n6675                        -0.234261          -0.836314           -0.624049   \n\n       first_review.day-of-month  first_review.day-of-week  \n2009                    0.407723                 -1.135522  \n5973                   -1.324160                  1.436111  \n11852                  -1.540646                 -0.278311  \n995                    -1.432403                  1.007506  \n6675                   -1.432403                 -0.706916  \n\n[5 rows x 31 columns]",
      "text/html": "<div>\n<style scoped>\n    .dataframe tbody tr th:only-of-type {\n        vertical-align: middle;\n    }\n\n    .dataframe tbody tr th {\n        vertical-align: top;\n    }\n\n    .dataframe thead th {\n        text-align: right;\n    }\n</style>\n<table border=\"1\" class=\"dataframe\">\n  <thead>\n    <tr style=\"text-align: right;\">\n      <th></th>\n      <th>host_response_rate</th>\n      <th>host_acceptance_rate</th>\n      <th>host_listings_count</th>\n      <th>host_total_listings_count</th>\n      <th>latitude</th>\n      <th>longitude</th>\n      <th>accommodates</th>\n      <th>bathrooms</th>\n      <th>bedrooms</th>\n      <th>beds</th>\n      <th>...</th>\n      <th>review_scores_cleanliness</th>\n      <th>review_scores_checkin</th>\n      <th>review_scores_communication</th>\n      <th>review_scores_location</th>\n      <th>review_scores_value</th>\n      <th>calculated_host_listings_count</th>\n      <th>reviews_per_month</th>\n      <th>first_review.month</th>\n      <th>first_review.day-of-month</th>\n      <th>first_review.day-of-week</th>\n    </tr>\n  </thead>\n  <tbody>\n    <tr>\n      <td>2009</td>\n      <td>0.442530</td>\n      <td>-0.178082</td>\n      <td>-0.149576</td>\n      <td>-0.149576</td>\n      <td>0.877164</td>\n      <td>-0.198248</td>\n      <td>0.012467</td>\n      <td>-0.347635</td>\n      <td>-0.452619</td>\n      <td>-0.634262</td>\n      <td>...</td>\n      <td>-1.516980</td>\n      <td>-0.939748</td>\n      <td>-1.098133</td>\n      <td>-0.488316</td>\n      <td>-0.094373</td>\n      <td>-0.184831</td>\n      <td>-0.169160</td>\n      <td>-0.295573</td>\n      <td>0.407723</td>\n      <td>-1.135522</td>\n    </tr>\n    <tr>\n      <td>5973</td>\n      <td>0.365314</td>\n      <td>0.560889</td>\n      <td>3.452163</td>\n      <td>3.452163</td>\n      <td>-1.573731</td>\n      <td>0.864292</td>\n      <td>0.689465</td>\n      <td>1.117330</td>\n      <td>0.730215</td>\n      <td>0.056177</td>\n      <td>...</td>\n      <td>0.705447</td>\n      <td>0.485133</td>\n      <td>0.441868</td>\n      <td>-1.805343</td>\n      <td>1.092181</td>\n      <td>3.225778</td>\n      <td>-0.987627</td>\n      <td>-1.609477</td>\n      <td>-1.324160</td>\n      <td>1.436111</td>\n    </tr>\n    <tr>\n      <td>11852</td>\n      <td>-2.646094</td>\n      <td>0.039262</td>\n      <td>-0.241929</td>\n      <td>-0.241929</td>\n      <td>0.563733</td>\n      <td>-0.904727</td>\n      <td>-0.664532</td>\n      <td>-0.347635</td>\n      <td>0.730215</td>\n      <td>-0.634262</td>\n      <td>...</td>\n      <td>0.705447</td>\n      <td>0.485133</td>\n      <td>0.441868</td>\n      <td>0.828710</td>\n      <td>1.092181</td>\n      <td>-0.234261</td>\n      <td>-0.918849</td>\n      <td>-1.609477</td>\n      <td>-1.540646</td>\n      <td>-0.278311</td>\n    </tr>\n    <tr>\n      <td>995</td>\n      <td>-0.329626</td>\n      <td>0.213138</td>\n      <td>-0.195753</td>\n      <td>-0.195753</td>\n      <td>-0.624544</td>\n      <td>3.174741</td>\n      <td>-1.341531</td>\n      <td>-0.347635</td>\n      <td>-0.452619</td>\n      <td>-0.634262</td>\n      <td>...</td>\n      <td>0.705447</td>\n      <td>0.485133</td>\n      <td>0.441868</td>\n      <td>0.828710</td>\n      <td>1.092181</td>\n      <td>-0.184831</td>\n      <td>-0.409885</td>\n      <td>0.361379</td>\n      <td>-1.432403</td>\n      <td>1.007506</td>\n    </tr>\n    <tr>\n      <td>6675</td>\n      <td>-4.730915</td>\n      <td>0.647827</td>\n      <td>-0.241929</td>\n      <td>-0.241929</td>\n      <td>0.535735</td>\n      <td>-0.387479</td>\n      <td>0.012467</td>\n      <td>-0.347635</td>\n      <td>-0.452619</td>\n      <td>-0.634262</td>\n      <td>...</td>\n      <td>-3.739408</td>\n      <td>-0.939748</td>\n      <td>-1.098133</td>\n      <td>-0.488316</td>\n      <td>-2.467479</td>\n      <td>-0.234261</td>\n      <td>-0.836314</td>\n      <td>-0.624049</td>\n      <td>-1.432403</td>\n      <td>-0.706916</td>\n    </tr>\n  </tbody>\n</table>\n<p>5 rows × 31 columns</p>\n</div>"
     },
     "execution_count": 12,
     "metadata": {},
     "output_type": "execute_result"
    }
   ],
   "source": [
    "values = train_data.values\n",
    "norm_values, mean, sigma = featureNormalize(values)\n",
    "\n",
    "normalized_data = pd.DataFrame(norm_values, index=train_data.index, columns=train_data.columns)\n",
    "normalized_data.head()\n"
   ]
  },
  {
   "cell_type": "code",
   "execution_count": 13,
   "metadata": {
    "pycharm": {
     "name": "#%%\n"
    }
   },
   "outputs": [],
   "source": [
    "m = train_data.shape[0]\n",
    "# Add intercept term to X\n",
    "X = np.concatenate([np.ones((m, 1)), normalized_data], axis=1)"
   ]
  },
  {
   "cell_type": "markdown",
   "metadata": {},
   "source": [
    "building linear regression model"
   ]
  },
  {
   "cell_type": "code",
   "execution_count": 14,
   "metadata": {
    "pycharm": {
     "name": "#%%\n"
    }
   },
   "outputs": [],
   "source": [
    "# Choose some alpha value - change this\n",
    "alpha = 0.1\n",
    "num_iters = 400\n",
    "\n",
    "# init theta and run gradient descent\n",
    "theta = np.zeros(X.shape[1])\n",
    "theta, J_history = gradientDescent(X, y_train, theta, alpha, num_iters)"
   ]
  },
  {
   "cell_type": "code",
   "execution_count": 15,
   "metadata": {
    "pycharm": {
     "name": "#%%\n"
    }
   },
   "outputs": [
    {
     "data": {
      "text/plain": "Text(0, 0.5, 'Cost J')"
     },
     "execution_count": 15,
     "metadata": {},
     "output_type": "execute_result"
    },
    {
     "data": {
      "text/plain": "<Figure size 432x288 with 1 Axes>",
      "image/png": "[encoded data removed]"
     },
     "metadata": {
      "needs_background": "light"
     },
     "output_type": "display_data"
    }
   ],
   "source": [
    "# Plot the convergence graph\n",
    "plt.plot(np.arange(len(J_history)), J_history, lw=2)\n",
    "plt.xlabel('Number of iterations')\n",
    "plt.ylabel('Cost J')"
   ]
  },
  {
   "cell_type": "markdown",
   "metadata": {},
   "source": [
    "normalize the test data"
   ]
  },
  {
   "cell_type": "code",
   "execution_count": 16,
   "metadata": {
    "pycharm": {
     "name": "#%%\n"
    }
   },
   "outputs": [
    {
     "data": {
      "text/plain": "    host_response_rate  host_acceptance_rate  host_listings_count  \\\n2            -1.487860             -0.091144            -0.241929   \n3            -3.418250             -1.525618            -0.241929   \n6            -0.329626              0.647827            -0.241929   \n9            -4.730915             -0.786647            -0.241929   \n13            0.442530              0.647827            -0.241929   \n\n    host_total_listings_count  latitude  longitude  accommodates  bathrooms  \\\n2                   -0.241929 -3.272826   2.982437     -0.664532  -0.347635   \n3                   -0.241929 -2.973892   2.680149      0.012467   1.117330   \n6                   -0.241929 -2.589585   2.871398      1.366464   1.117330   \n9                   -0.241929 -3.424221   2.853297      0.689465  -0.347635   \n13                  -0.241929 -2.984661   2.712385     -0.664532  -0.347635   \n\n    bedrooms      beds  ...  review_scores_cleanliness  review_scores_checkin  \\\n2  -0.452619 -0.634262  ...                  -0.405766               0.485133   \n3  -0.452619 -0.634262  ...                   0.705447               0.485133   \n6   1.913049  2.127494  ...                   0.705447               0.485133   \n9   0.730215  0.056177  ...                   0.705447               0.485133   \n13 -0.452619 -0.634262  ...                  -2.628194              -0.939748   \n\n    review_scores_communication  review_scores_location  review_scores_value  \\\n2                      0.441868               -3.122369            -0.094373   \n3                      0.441868                0.828710             1.092181   \n6                      0.441868               -0.488316             1.092181   \n9                      0.441868                0.828710             1.092181   \n13                     0.441868               -3.122369            -0.094373   \n\n    calculated_host_listings_count  reviews_per_month  first_review.month  \\\n2                        -0.234261          -0.767535            0.689855   \n3                        -0.234261           0.016543           -0.295573   \n6                        -0.234261          -0.746902            1.018331   \n9                        -0.234261          -0.705634           -0.295573   \n13                       -0.234261          -0.079747           -0.295573   \n\n    first_review.day-of-month  first_review.day-of-week  \n2                    0.191238                  1.436111  \n3                    1.490151                  1.436111  \n6                   -1.107675                 -0.278311  \n9                   -0.241733                  0.578900  \n13                  -1.107675                  0.150295  \n\n[5 rows x 31 columns]",
      "text/html": "<div>\n<style scoped>\n    .dataframe tbody tr th:only-of-type {\n        vertical-align: middle;\n    }\n\n    .dataframe tbody tr th {\n        vertical-align: top;\n    }\n\n    .dataframe thead th {\n        text-align: right;\n    }\n</style>\n<table border=\"1\" class=\"dataframe\">\n  <thead>\n    <tr style=\"text-align: right;\">\n      <th></th>\n      <th>host_response_rate</th>\n      <th>host_acceptance_rate</th>\n      <th>host_listings_count</th>\n      <th>host_total_listings_count</th>\n      <th>latitude</th>\n      <th>longitude</th>\n      <th>accommodates</th>\n      <th>bathrooms</th>\n      <th>bedrooms</th>\n      <th>beds</th>\n      <th>...</th>\n      <th>review_scores_cleanliness</th>\n      <th>review_scores_checkin</th>\n      <th>review_scores_communication</th>\n      <th>review_scores_location</th>\n      <th>review_scores_value</th>\n      <th>calculated_host_listings_count</th>\n      <th>reviews_per_month</th>\n      <th>first_review.month</th>\n      <th>first_review.day-of-month</th>\n      <th>first_review.day-of-week</th>\n    </tr>\n  </thead>\n  <tbody>\n    <tr>\n      <td>2</td>\n      <td>-1.487860</td>\n      <td>-0.091144</td>\n      <td>-0.241929</td>\n      <td>-0.241929</td>\n      <td>-3.272826</td>\n      <td>2.982437</td>\n      <td>-0.664532</td>\n      <td>-0.347635</td>\n      <td>-0.452619</td>\n      <td>-0.634262</td>\n      <td>...</td>\n      <td>-0.405766</td>\n      <td>0.485133</td>\n      <td>0.441868</td>\n      <td>-3.122369</td>\n      <td>-0.094373</td>\n      <td>-0.234261</td>\n      <td>-0.767535</td>\n      <td>0.689855</td>\n      <td>0.191238</td>\n      <td>1.436111</td>\n    </tr>\n    <tr>\n      <td>3</td>\n      <td>-3.418250</td>\n      <td>-1.525618</td>\n      <td>-0.241929</td>\n      <td>-0.241929</td>\n      <td>-2.973892</td>\n      <td>2.680149</td>\n      <td>0.012467</td>\n      <td>1.117330</td>\n      <td>-0.452619</td>\n      <td>-0.634262</td>\n      <td>...</td>\n      <td>0.705447</td>\n      <td>0.485133</td>\n      <td>0.441868</td>\n      <td>0.828710</td>\n      <td>1.092181</td>\n      <td>-0.234261</td>\n      <td>0.016543</td>\n      <td>-0.295573</td>\n      <td>1.490151</td>\n      <td>1.436111</td>\n    </tr>\n    <tr>\n      <td>6</td>\n      <td>-0.329626</td>\n      <td>0.647827</td>\n      <td>-0.241929</td>\n      <td>-0.241929</td>\n      <td>-2.589585</td>\n      <td>2.871398</td>\n      <td>1.366464</td>\n      <td>1.117330</td>\n      <td>1.913049</td>\n      <td>2.127494</td>\n      <td>...</td>\n      <td>0.705447</td>\n      <td>0.485133</td>\n      <td>0.441868</td>\n      <td>-0.488316</td>\n      <td>1.092181</td>\n      <td>-0.234261</td>\n      <td>-0.746902</td>\n      <td>1.018331</td>\n      <td>-1.107675</td>\n      <td>-0.278311</td>\n    </tr>\n    <tr>\n      <td>9</td>\n      <td>-4.730915</td>\n      <td>-0.786647</td>\n      <td>-0.241929</td>\n      <td>-0.241929</td>\n      <td>-3.424221</td>\n      <td>2.853297</td>\n      <td>0.689465</td>\n      <td>-0.347635</td>\n      <td>0.730215</td>\n      <td>0.056177</td>\n      <td>...</td>\n      <td>0.705447</td>\n      <td>0.485133</td>\n      <td>0.441868</td>\n      <td>0.828710</td>\n      <td>1.092181</td>\n      <td>-0.234261</td>\n      <td>-0.705634</td>\n      <td>-0.295573</td>\n      <td>-0.241733</td>\n      <td>0.578900</td>\n    </tr>\n    <tr>\n      <td>13</td>\n      <td>0.442530</td>\n      <td>0.647827</td>\n      <td>-0.241929</td>\n      <td>-0.241929</td>\n      <td>-2.984661</td>\n      <td>2.712385</td>\n      <td>-0.664532</td>\n      <td>-0.347635</td>\n      <td>-0.452619</td>\n      <td>-0.634262</td>\n      <td>...</td>\n      <td>-2.628194</td>\n      <td>-0.939748</td>\n      <td>0.441868</td>\n      <td>-3.122369</td>\n      <td>-0.094373</td>\n      <td>-0.234261</td>\n      <td>-0.079747</td>\n      <td>-0.295573</td>\n      <td>-1.107675</td>\n      <td>0.150295</td>\n    </tr>\n  </tbody>\n</table>\n<p>5 rows × 31 columns</p>\n</div>"
     },
     "execution_count": 16,
     "metadata": {},
     "output_type": "execute_result"
    }
   ],
   "source": [
    "values = test_data.values\n",
    "# norm_values, mean, sigma = featureNormalize(values)\n",
    "norm_values = (values - mean)/sigma\n",
    "\n",
    "normalized_data = pd.DataFrame(norm_values, index=test_data.index, columns=test_data.columns)\n",
    "normalized_data.head()"
   ]
  },
  {
   "cell_type": "code",
   "execution_count": 17,
   "metadata": {
    "pycharm": {
     "name": "#%%\n"
    }
   },
   "outputs": [],
   "source": [
    "m = test_data.shape[0]\n",
    "# Add intercept term to X\n",
    "X = np.concatenate([np.ones((m, 1)), normalized_data], axis=1)"
   ]
  },
  {
   "cell_type": "markdown",
   "metadata": {
    "pycharm": {
     "name": "#%% md\n"
    }
   },
   "source": [
    "testing the model"
   ]
  },
  {
   "cell_type": "code",
   "execution_count": 18,
   "metadata": {
    "pycharm": {
     "name": "#%%\n"
    }
   },
   "outputs": [
    {
     "name": "stdout",
     "output_type": "stream",
     "text": [
      "success rate for difference up to 50$ is:  77.37722048066875 %\n"
     ]
    }
   ],
   "source": [
    "predicted_price = np.dot(X, theta)\n",
    "\n",
    "diff_from_truth = np.abs(y_test - predicted_price)\n",
    "success_condition = 50 # dollar per night\n",
    "success_rate = (np.sum(diff_from_truth < 50) * 100) / diff_from_truth.size\n",
    "print('success rate for difference up to 50$ is: ', success_rate,'%')\n"
   ]
  },
  {
   "cell_type": "markdown",
   "metadata": {
    "pycharm": {
     "name": "#%% md\n"
    }
   },
   "source": [
    "## classify cheap or expensive listing using logistic regression ML"
   ]
  },
  {
   "cell_type": "markdown",
   "metadata": {
    "pycharm": {
     "name": "#%% md\n"
    }
   },
   "source": [
    " prepering the data we need for this part"
   ]
  },
  {
   "cell_type": "code",
   "execution_count": 19,
   "metadata": {
    "pycharm": {
     "name": "#%%\n"
    }
   },
   "outputs": [],
   "source": [
    "relevant_data = data[['latitude', 'longitude', 'room_type', 'price', 'name']]\n",
    "\n",
    "del data"
   ]
  },
  {
   "cell_type": "markdown",
   "metadata": {
    "pycharm": {
     "name": "#%% md\n"
    }
   },
   "source": [
    " we chose dam square to be Amsterdam's center "
   ]
  },
  {
   "cell_type": "code",
   "execution_count": 20,
   "metadata": {
    "pycharm": {
     "name": "#%%\n"
    }
   },
   "outputs": [],
   "source": [
    "city_center = gpd.GeoDataFrame(crs={'init': 'epsg:4326'})\n",
    "city_center['geometry'] = [Point(52.373204, 4.892694)]\n",
    "# transform to metric grid\n",
    "city_center = city_center.to_crs({'init': 'epsg:23095'})"
   ]
  },
  {
   "cell_type": "markdown",
   "metadata": {},
   "source": [
    " measure distance from city center"
   ]
  },
  {
   "cell_type": "code",
   "execution_count": 21,
   "metadata": {
    "pycharm": {
     "name": "#%%\n"
    }
   },
   "outputs": [
    {
     "data": {
      "text/plain": "    latitude  longitude     room_type  price  \\\n0  52.323369   4.977730  Private room     95   \n1  52.315635   4.978166  Private room     60   \n2  52.316711   4.986618  Private room     45   \n3  52.321204   4.976630  Private room     35   \n4  52.327270   4.967352  Private room     39   \n\n                                                name  \\\n0                             nice Room in Amsterdam   \n1        Best cost benefit room near a metro station   \n2  Nice  room in A´dam SE near nature & heart centre   \n3     Private room 15min metro ride from city center   \n4    Room in Amsterdam in a new house!! Free Bicycle   \n\n                         geometry  distance_from_city_center  \n0  POINT (6455689.661 810849.492)               16026.599729  \n1  POINT (6454433.489 810803.904)               16753.171308  \n2  POINT (6454480.396 812188.503)               17820.381150  \n3  POINT (6455356.333 810638.850)               16054.029530  \n4  POINT (6456475.568 809227.398)               14253.306445  ",
      "text/html": "<div>\n<style scoped>\n    .dataframe tbody tr th:only-of-type {\n        vertical-align: middle;\n    }\n\n    .dataframe tbody tr th {\n        vertical-align: top;\n    }\n\n    .dataframe thead th {\n        text-align: right;\n    }\n</style>\n<table border=\"1\" class=\"dataframe\">\n  <thead>\n    <tr style=\"text-align: right;\">\n      <th></th>\n      <th>latitude</th>\n      <th>longitude</th>\n      <th>room_type</th>\n      <th>price</th>\n      <th>name</th>\n      <th>geometry</th>\n      <th>distance_from_city_center</th>\n    </tr>\n  </thead>\n  <tbody>\n    <tr>\n      <td>0</td>\n      <td>52.323369</td>\n      <td>4.977730</td>\n      <td>Private room</td>\n      <td>95</td>\n      <td>nice Room in Amsterdam</td>\n      <td>POINT (6455689.661 810849.492)</td>\n      <td>16026.599729</td>\n    </tr>\n    <tr>\n      <td>1</td>\n      <td>52.315635</td>\n      <td>4.978166</td>\n      <td>Private room</td>\n      <td>60</td>\n      <td>Best cost benefit room near a metro station</td>\n      <td>POINT (6454433.489 810803.904)</td>\n      <td>16753.171308</td>\n    </tr>\n    <tr>\n      <td>2</td>\n      <td>52.316711</td>\n      <td>4.986618</td>\n      <td>Private room</td>\n      <td>45</td>\n      <td>Nice  room in A´dam SE near nature &amp; heart centre</td>\n      <td>POINT (6454480.396 812188.503)</td>\n      <td>17820.381150</td>\n    </tr>\n    <tr>\n      <td>3</td>\n      <td>52.321204</td>\n      <td>4.976630</td>\n      <td>Private room</td>\n      <td>35</td>\n      <td>Private room 15min metro ride from city center</td>\n      <td>POINT (6455356.333 810638.850)</td>\n      <td>16054.029530</td>\n    </tr>\n    <tr>\n      <td>4</td>\n      <td>52.327270</td>\n      <td>4.967352</td>\n      <td>Private room</td>\n      <td>39</td>\n      <td>Room in Amsterdam in a new house!! Free Bicycle</td>\n      <td>POINT (6456475.568 809227.398)</td>\n      <td>14253.306445</td>\n    </tr>\n  </tbody>\n</table>\n</div>"
     },
     "execution_count": 21,
     "metadata": {},
     "output_type": "execute_result"
    }
   ],
   "source": [
    "# create point objects from listing's coordinates and measure distance ftom city cenetr\n",
    "geometry = []\n",
    "distance_from_city_center =[]\n",
    "for index, row in relevant_data.iterrows() :\n",
    "    p = Point(row['latitude'], row['longitude'])\n",
    "    geometry.append(p)\n",
    "\n",
    "relevant_data['geometry'] = geometry\n",
    "\n",
    "relevant_data = gpd.GeoDataFrame(relevant_data, geometry='geometry', crs={'init': 'epsg:4326'})\n",
    "relevant_data = relevant_data.to_crs({'init': 'epsg:23095'})\n",
    "\n",
    "distance_from_city_center =  relevant_data.apply(lambda row: row['geometry'].distance(city_center['geometry'][0]), axis=1)\n",
    "relevant_data['distance_from_city_center'] = distance_from_city_center\n",
    "relevant_data.head()\n",
    "\n"
   ]
  },
  {
   "cell_type": "code",
   "execution_count": 22,
   "metadata": {
    "pycharm": {
     "name": "#%%\n"
    }
   },
   "outputs": [],
   "source": [
    "# print(relevant_data['room_type'])"
   ]
  },
  {
   "cell_type": "code",
   "execution_count": 23,
   "metadata": {
    "pycharm": {
     "name": "#%%\n"
    }
   },
   "outputs": [
    {
     "data": {
      "text/plain": "    latitude  longitude     room_type  price  \\\n0  52.323369   4.977730  Private room     95   \n1  52.315635   4.978166  Private room     60   \n2  52.316711   4.986618  Private room     45   \n3  52.321204   4.976630  Private room     35   \n4  52.327270   4.967352  Private room     39   \n\n                                                name  \\\n0                             nice Room in Amsterdam   \n1        Best cost benefit room near a metro station   \n2  Nice  room in A´dam SE near nature & heart centre   \n3     Private room 15min metro ride from city center   \n4    Room in Amsterdam in a new house!! Free Bicycle   \n\n                         geometry  distance_from_city_center  home/apt  \n0  POINT (6455689.661 810849.492)               16026.599729     False  \n1  POINT (6454433.489 810803.904)               16753.171308     False  \n2  POINT (6454480.396 812188.503)               17820.381150     False  \n3  POINT (6455356.333 810638.850)               16054.029530     False  \n4  POINT (6456475.568 809227.398)               14253.306445     False  ",
      "text/html": "<div>\n<style scoped>\n    .dataframe tbody tr th:only-of-type {\n        vertical-align: middle;\n    }\n\n    .dataframe tbody tr th {\n        vertical-align: top;\n    }\n\n    .dataframe thead th {\n        text-align: right;\n    }\n</style>\n<table border=\"1\" class=\"dataframe\">\n  <thead>\n    <tr style=\"text-align: right;\">\n      <th></th>\n      <th>latitude</th>\n      <th>longitude</th>\n      <th>room_type</th>\n      <th>price</th>\n      <th>name</th>\n      <th>geometry</th>\n      <th>distance_from_city_center</th>\n      <th>home/apt</th>\n    </tr>\n  </thead>\n  <tbody>\n    <tr>\n      <td>0</td>\n      <td>52.323369</td>\n      <td>4.977730</td>\n      <td>Private room</td>\n      <td>95</td>\n      <td>nice Room in Amsterdam</td>\n      <td>POINT (6455689.661 810849.492)</td>\n      <td>16026.599729</td>\n      <td>False</td>\n    </tr>\n    <tr>\n      <td>1</td>\n      <td>52.315635</td>\n      <td>4.978166</td>\n      <td>Private room</td>\n      <td>60</td>\n      <td>Best cost benefit room near a metro station</td>\n      <td>POINT (6454433.489 810803.904)</td>\n      <td>16753.171308</td>\n      <td>False</td>\n    </tr>\n    <tr>\n      <td>2</td>\n      <td>52.316711</td>\n      <td>4.986618</td>\n      <td>Private room</td>\n      <td>45</td>\n      <td>Nice  room in A´dam SE near nature &amp; heart centre</td>\n      <td>POINT (6454480.396 812188.503)</td>\n      <td>17820.381150</td>\n      <td>False</td>\n    </tr>\n    <tr>\n      <td>3</td>\n      <td>52.321204</td>\n      <td>4.976630</td>\n      <td>Private room</td>\n      <td>35</td>\n      <td>Private room 15min metro ride from city center</td>\n      <td>POINT (6455356.333 810638.850)</td>\n      <td>16054.029530</td>\n      <td>False</td>\n    </tr>\n    <tr>\n      <td>4</td>\n      <td>52.327270</td>\n      <td>4.967352</td>\n      <td>Private room</td>\n      <td>39</td>\n      <td>Room in Amsterdam in a new house!! Free Bicycle</td>\n      <td>POINT (6456475.568 809227.398)</td>\n      <td>14253.306445</td>\n      <td>False</td>\n    </tr>\n  </tbody>\n</table>\n</div>"
     },
     "execution_count": 23,
     "metadata": {},
     "output_type": "execute_result"
    }
   ],
   "source": [
    "# 'shared room' has too little examples so we decided to divide it to 'home/apt' or not\n",
    "# we want room type to be 1 for 'home/apt' else 0\n",
    "room_type = relevant_data['room_type'] == 'Entire home/apt'\n",
    "relevant_data['home/apt'] = room_type\n",
    "relevant_data.head()"
   ]
  },
  {
   "cell_type": "markdown",
   "metadata": {},
   "source": [
    " create cheap\\expensive feature"
   ]
  },
  {
   "cell_type": "code",
   "execution_count": 24,
   "metadata": {
    "pycharm": {
     "name": "#%%\n"
    }
   },
   "outputs": [
    {
     "data": {
      "text/plain": "    latitude  longitude     room_type  price  \\\n0  52.323369   4.977730  Private room     95   \n1  52.315635   4.978166  Private room     60   \n2  52.316711   4.986618  Private room     45   \n3  52.321204   4.976630  Private room     35   \n4  52.327270   4.967352  Private room     39   \n\n                                                name  \\\n0                             nice Room in Amsterdam   \n1        Best cost benefit room near a metro station   \n2  Nice  room in A´dam SE near nature & heart centre   \n3     Private room 15min metro ride from city center   \n4    Room in Amsterdam in a new house!! Free Bicycle   \n\n                         geometry  distance_from_city_center  home/apt  \\\n0  POINT (6455689.661 810849.492)               16026.599729     False   \n1  POINT (6454433.489 810803.904)               16753.171308     False   \n2  POINT (6454480.396 812188.503)               17820.381150     False   \n3  POINT (6455356.333 810638.850)               16054.029530     False   \n4  POINT (6456475.568 809227.398)               14253.306445     False   \n\n   expensive  \n0      False  \n1      False  \n2      False  \n3      False  \n4      False  ",
      "text/html": "<div>\n<style scoped>\n    .dataframe tbody tr th:only-of-type {\n        vertical-align: middle;\n    }\n\n    .dataframe tbody tr th {\n        vertical-align: top;\n    }\n\n    .dataframe thead th {\n        text-align: right;\n    }\n</style>\n<table border=\"1\" class=\"dataframe\">\n  <thead>\n    <tr style=\"text-align: right;\">\n      <th></th>\n      <th>latitude</th>\n      <th>longitude</th>\n      <th>room_type</th>\n      <th>price</th>\n      <th>name</th>\n      <th>geometry</th>\n      <th>distance_from_city_center</th>\n      <th>home/apt</th>\n      <th>expensive</th>\n    </tr>\n  </thead>\n  <tbody>\n    <tr>\n      <td>0</td>\n      <td>52.323369</td>\n      <td>4.977730</td>\n      <td>Private room</td>\n      <td>95</td>\n      <td>nice Room in Amsterdam</td>\n      <td>POINT (6455689.661 810849.492)</td>\n      <td>16026.599729</td>\n      <td>False</td>\n      <td>False</td>\n    </tr>\n    <tr>\n      <td>1</td>\n      <td>52.315635</td>\n      <td>4.978166</td>\n      <td>Private room</td>\n      <td>60</td>\n      <td>Best cost benefit room near a metro station</td>\n      <td>POINT (6454433.489 810803.904)</td>\n      <td>16753.171308</td>\n      <td>False</td>\n      <td>False</td>\n    </tr>\n    <tr>\n      <td>2</td>\n      <td>52.316711</td>\n      <td>4.986618</td>\n      <td>Private room</td>\n      <td>45</td>\n      <td>Nice  room in A´dam SE near nature &amp; heart centre</td>\n      <td>POINT (6454480.396 812188.503)</td>\n      <td>17820.381150</td>\n      <td>False</td>\n      <td>False</td>\n    </tr>\n    <tr>\n      <td>3</td>\n      <td>52.321204</td>\n      <td>4.976630</td>\n      <td>Private room</td>\n      <td>35</td>\n      <td>Private room 15min metro ride from city center</td>\n      <td>POINT (6455356.333 810638.850)</td>\n      <td>16054.029530</td>\n      <td>False</td>\n      <td>False</td>\n    </tr>\n    <tr>\n      <td>4</td>\n      <td>52.327270</td>\n      <td>4.967352</td>\n      <td>Private room</td>\n      <td>39</td>\n      <td>Room in Amsterdam in a new house!! Free Bicycle</td>\n      <td>POINT (6456475.568 809227.398)</td>\n      <td>14253.306445</td>\n      <td>False</td>\n      <td>False</td>\n    </tr>\n  </tbody>\n</table>\n</div>"
     },
     "execution_count": 24,
     "metadata": {},
     "output_type": "execute_result"
    }
   ],
   "source": [
    "expensive_condition = 100\n",
    "expensive = relevant_data['price'] > 100\n",
    "relevant_data['expensive'] = expensive\n",
    "\n",
    "# relevant_data = relevant_data[['distance_from_city_center','home/apt', 'expensive']]\n",
    "\n",
    "relevant_data.head()"
   ]
  },
  {
   "cell_type": "markdown",
   "metadata": {},
   "source": [
    " cost function and optimization"
   ]
  },
  {
   "cell_type": "code",
   "execution_count": 25,
   "metadata": {
    "pycharm": {
     "name": "#%%\n"
    }
   },
   "outputs": [],
   "source": [
    "def sigmoid(z):\n",
    "    \"\"\"\n",
    "    Compute sigmoid function given the input z.\n",
    "\n",
    "    Parameters\n",
    "    ----------\n",
    "    z : array_like\n",
    "        The input to the sigmoid function. This can be a 1-D vector\n",
    "        or a 2-D matrix.\n",
    "\n",
    "    Returns\n",
    "    -------\n",
    "    g : array_like\n",
    "        The computed sigmoid function. g has the same shape as z, since\n",
    "        the sigmoid is computed element-wise on z.\n",
    "\n",
    "    Instructions\n",
    "    ------------\n",
    "    Compute the sigmoid of each value of z (z can be a matrix, vector or scalar).\n",
    "    \"\"\"\n",
    "    # convert input to a numpy array\n",
    "    z = np.array(z)\n",
    "\n",
    "    # You need to return the following variables correctly\n",
    "    g = np.zeros(z.shape)\n",
    "\n",
    "    mat1 = np.ones(z.shape)\n",
    "    g = mat1/(mat1 + np.exp(-z))\n",
    "\n",
    "    return g\n",
    "\n",
    "def costFunction(theta, X, y):\n",
    "    \"\"\"\n",
    "    Compute cost and gradient for logistic regression.\n",
    "\n",
    "    Parameters\n",
    "    ----------\n",
    "    theta : array_like\n",
    "        The parameters for logistic regression. This a vector\n",
    "        of shape (n+1, ).\n",
    "\n",
    "    X : array_like\n",
    "        The input dataset of shape (m x n+1) where m is the total number\n",
    "        of data points and n is the number of features. We assume the\n",
    "        intercept has already been added to the input.\n",
    "\n",
    "    y : arra_like\n",
    "        Labels for the input. This is a vector of shape (m, ).\n",
    "\n",
    "    Returns\n",
    "    -------\n",
    "    J : float\n",
    "        The computed value for the cost function.\n",
    "\n",
    "    grad : array_like\n",
    "        A vector of shape (n+1, ) which is the gradient of the cost\n",
    "        function with respect to theta, at the current values of theta.\n",
    "\n",
    "    Instructions\n",
    "    ------------\n",
    "    Compute the cost of a particular choice of theta. You should set J to\n",
    "    the cost. Compute the partial derivatives and set grad to the partial\n",
    "    derivatives of the cost w.r.t. each parameter in theta.\n",
    "    \"\"\"\n",
    "    # Initialize some useful values\n",
    "    m = y.size  # number of training examples\n",
    "\n",
    "    J = 0\n",
    "    grad = np.zeros(theta.shape)\n",
    "\n",
    "    J = (1/m) * ((np.dot((-1*y).T,np.log(sigmoid(np.dot(X,theta))))) - (np.dot((1-y).T,np.log(1-sigmoid(np.dot(X,theta))))))\n",
    "    grad = (1/m) * np.dot(X.T,(sigmoid(np.dot(X,theta))-y))\n",
    "\n",
    "    # =============================================================\n",
    "    return J, grad\n",
    "\n",
    "\n",
    "\n"
   ]
  },
  {
   "cell_type": "markdown",
   "metadata": {},
   "source": [
    " visualize the data"
   ]
  },
  {
   "cell_type": "code",
   "execution_count": 26,
   "metadata": {
    "pycharm": {
     "name": "#%%\n"
    }
   },
   "outputs": [],
   "source": [
    "def plotData(X, y):\n",
    "    \"\"\"\n",
    "    Plots the data points X and y into a new figure. Plots the data\n",
    "    points with * for the positive examples and o for the negative examples.\n",
    "\n",
    "    Parameters\n",
    "    ----------\n",
    "    X : array_like\n",
    "        An Mx2 matrix representing the dataset.\n",
    "\n",
    "    y : array_like\n",
    "        Label values for the dataset. A vector of size (M, ).\n",
    "\n",
    "    Instructions\n",
    "    ------------\n",
    "    Plot the positive and negative examples on a 2D plot, using the\n",
    "    option 'k*' for the positive examples and 'ko' for the negative examples.\n",
    "    \"\"\"\n",
    "    # Create New Figure\n",
    "    fig = plt.figure()\n",
    "\n",
    "    # ====================== YOUR CODE HERE ======================\n",
    "    # Find Indices of Positive and Negative Examples\n",
    "    pos = y == 1\n",
    "    neg = y == 0\n",
    "\n",
    "    # Plot Examples\n",
    "    plt.plot(X[pos, 0], X[pos, 1], 'k*', lw=2, ms=10)\n",
    "    plt.plot(X[neg, 0], X[neg, 1], 'ko', mfc='y', ms=8, mec='k', mew=1)\n"
   ]
  },
  {
   "cell_type": "code",
   "execution_count": 27,
   "metadata": {
    "pycharm": {
     "name": "#%%\n"
    }
   },
   "outputs": [],
   "source": [
    "# remove outliers\n",
    "relevant_data = relevant_data[relevant_data['price'] < 4000]"
   ]
  },
  {
   "cell_type": "code",
   "execution_count": 28,
   "metadata": {
    "pycharm": {
     "name": "#%%\n"
    }
   },
   "outputs": [
    {
     "data": {
      "text/plain": "<matplotlib.legend.Legend at 0x273430a1748>"
     },
     "execution_count": 28,
     "metadata": {},
     "output_type": "execute_result"
    },
    {
     "data": {
      "text/plain": "<Figure size 432x288 with 1 Axes>",
      "image/png": "[encoded data removed]"
     },
     "metadata": {
      "needs_background": "light"
     },
     "output_type": "display_data"
    }
   ],
   "source": [
    "plotData(relevant_data[['distance_from_city_center','price']].values,relevant_data['expensive'].values)\n",
    "# plt.scatter(relevant_data['distance_from_city_center'].values,data['price'].values)\n",
    "# add axes labels\n",
    "plt.xlabel('distance from city center')\n",
    "plt.ylabel('price')\n",
    "plt.legend(['expensive', 'cheap'])\n"
   ]
  },
  {
   "cell_type": "code",
   "execution_count": 29,
   "metadata": {
    "pycharm": {
     "name": "#%%\n"
    }
   },
   "outputs": [
    {
     "data": {
      "text/plain": "<matplotlib.legend.Legend at 0x27343afa208>"
     },
     "execution_count": 29,
     "metadata": {},
     "output_type": "execute_result"
    },
    {
     "data": {
      "text/plain": "<Figure size 432x288 with 1 Axes>",
      "image/png": "[encoded data removed]"
     },
     "metadata": {
      "needs_background": "light"
     },
     "output_type": "display_data"
    }
   ],
   "source": [
    "plotData(relevant_data[['distance_from_city_center','price']].values,relevant_data['home/apt'].values)\n",
    "# plt.scatter(relevant_data['distance_from_city_center'].values,data['price'].values)\n",
    "# add axes labels\n",
    "plt.xlabel('distance from city center')\n",
    "plt.ylabel('price')\n",
    "plt.legend(['home/ap', 'other'])\n"
   ]
  },
  {
   "cell_type": "code",
   "execution_count": 30,
   "metadata": {
    "pycharm": {
     "name": "#%%\n"
    }
   },
   "outputs": [],
   "source": [
    "X = np.vstack([relevant_data['distance_from_city_center'].values,relevant_data['home/apt'].values]).T\n",
    "y = relevant_data['expensive'].values"
   ]
  },
  {
   "cell_type": "markdown",
   "metadata": {},
   "source": [
    " choosing train and test data\n"
   ]
  },
  {
   "cell_type": "markdown",
   "metadata": {},
   "source": [
    "map feature"
   ]
  },
  {
   "cell_type": "code",
   "execution_count": 31,
   "metadata": {
    "pycharm": {
     "name": "#%%\n"
    }
   },
   "outputs": [],
   "source": [
    "\n",
    "X = utils.mapFeature(X[:, 0], X[:, 1])\n",
    "X = X[:,1:]"
   ]
  },
  {
   "cell_type": "code",
   "execution_count": 32,
   "metadata": {
    "pycharm": {
     "name": "#%%\n"
    }
   },
   "outputs": [],
   "source": [
    "# print(np.sum(X[:,1]))"
   ]
  },
  {
   "cell_type": "markdown",
   "metadata": {},
   "source": [
    " normalize the data"
   ]
  },
  {
   "cell_type": "code",
   "execution_count": 33,
   "metadata": {
    "pycharm": {
     "name": "#%%\n"
    }
   },
   "outputs": [],
   "source": [
    "norm_X, mean, sigma = featureNormalize(X)"
   ]
  },
  {
   "cell_type": "markdown",
   "metadata": {},
   "source": [
    " concatenate X\n"
   ]
  },
  {
   "cell_type": "code",
   "execution_count": 34,
   "metadata": {
    "pycharm": {
     "name": "#%%\n"
    }
   },
   "outputs": [],
   "source": [
    "# Setup the data matrix appropriately, and add ones for the intercept term\n",
    "m, n = X.shape\n",
    "\n",
    "# Add intercept term to X\n",
    "X = np.concatenate([np.ones((m, 1)), norm_X], axis=1)\n"
   ]
  },
  {
   "cell_type": "code",
   "execution_count": 35,
   "metadata": {
    "pycharm": {
     "name": "#%%\n"
    }
   },
   "outputs": [],
   "source": [
    "def predict(theta, X):\n",
    "    \"\"\"\n",
    "    Predict whether the label is 0 or 1 using learned logistic regression.\n",
    "    Computes the predictions for X using a threshold at 0.5\n",
    "    (i.e., if sigmoid(theta.T*x) >= 0.5, predict 1)\n",
    "\n",
    "    Parameters\n",
    "    ----------\n",
    "    theta : array_like\n",
    "        Parameters for logistic regression. A vecotor of shape (n+1, ).\n",
    "\n",
    "    X : array_like\n",
    "        The data to use for computing predictions. The rows is the number\n",
    "        of points to compute predictions, and columns is the number of\n",
    "        features.\n",
    "\n",
    "    Returns\n",
    "    -------\n",
    "    p : array_like\n",
    "        Predictions and 0 or 1 for each row in X.\n",
    "\n",
    "    Instructions\n",
    "    ------------\n",
    "    Complete the following code to make predictions using your learned\n",
    "    logistic regression parameters.You should set p to a vector of 0's and 1's\n",
    "    \"\"\"\n",
    "    m = X.shape[0] # Number of training examples\n",
    "\n",
    "    # You need to return the following variables correctly\n",
    "    p = np.zeros(m)\n",
    "\n",
    "    # ====================== YOUR CODE HERE ======================\n",
    "    p = sigmoid(np.dot(X,theta)) >= 0.5\n",
    "\n",
    "    # ============================================================\n",
    "    return p\n"
   ]
  },
  {
   "cell_type": "code",
   "execution_count": 36,
   "metadata": {
    "pycharm": {
     "name": "#%%\n"
    }
   },
   "outputs": [
    {
     "name": "stdout",
     "output_type": "stream",
     "text": [
      "Cost at theta found by optimize.minimize: 0.542\n",
      "theta:\n",
      "\t[0.276, -3.098, 0.192]\n"
     ]
    }
   ],
   "source": [
    "# Initialize fitting parameters\n",
    "initial_theta = np.zeros(n+1)\n",
    "\n",
    "# set options for optimize.minimize\n",
    "options= {'maxiter': 400}\n",
    "\n",
    "res = optimize.minimize(costFunction,\n",
    "                        initial_theta,\n",
    "                        (X, y),\n",
    "                        jac=True,\n",
    "                        method='TNC',\n",
    "                        options=options)\n",
    "\n",
    "# the fun property of `OptimizeResult` object returns\n",
    "# the value of costFunction at optimized theta\n",
    "cost = res.fun\n",
    "\n",
    "# the optimized theta is in the x property\n",
    "theta = res.x\n",
    "\n",
    "# Print theta to screen\n",
    "print('Cost at theta found by optimize.minimize: {:.3f}'.format(cost))\n",
    "\n",
    "print('theta:')\n",
    "print('\\t[{:.3f}, {:.3f}, {:.3f}]'.format(*theta))\n",
    "\n",
    "\n",
    "\n"
   ]
  },
  {
   "cell_type": "markdown",
   "metadata": {},
   "source": [
    " predict and success rate\n"
   ]
  },
  {
   "cell_type": "code",
   "execution_count": 37,
   "metadata": {
    "pycharm": {
     "name": "#%%\n"
    }
   },
   "outputs": [
    {
     "name": "stdout",
     "output_type": "stream",
     "text": [
      "For a shared room or private room 3km from city center,we predict probability of 0.216 to be expensive\n",
      "or probability of 0.784 to be cheap\n",
      "For a home\\apt 3km from city center,we predict probability of 0.789 to be expensive,\n",
      "\n",
      "Train Accuracy of model is: 71.31 %\n"
     ]
    }
   ],
   "source": [
    "#  Predict probability for 'shared room' or 'private room' 3km from city center to be expensive\n",
    "\n",
    "x = np.array([ 3000, 0])\n",
    "x = utils.mapFeature(x[0], x[1])\n",
    "x = x[1:]\n",
    "x = (x - mean)/sigma\n",
    "# Add intercept term to X\n",
    "x = np.hstack([1,x])\n",
    "prob = sigmoid(np.dot(x, theta))\n",
    "print('For a shared room or private room 3km from city center,'\n",
    "      'we predict probability of {:.3f} to be expensive'.format(prob))\n",
    "print('or probability of {:.3f} to be cheap'.format(1-prob))\n",
    "\n",
    "#  Predict probability for 'home\\apt' 3km from city center to be expensive\n",
    "\n",
    "x = np.array([ 3000, 1])\n",
    "x = utils.mapFeature(x[0], x[1])\n",
    "x = x[1:]\n",
    "x = (x - mean)/sigma\n",
    "# Add intercept term to X\n",
    "x = np.hstack([1,x])\n",
    "prob = sigmoid(np.dot(x, theta))\n",
    "print('For a home\\\\apt 3km from city center,'\n",
    "      'we predict probability of {:.3f} to be expensive,'.format(prob))\n",
    "\n",
    "\n",
    "# Compute accuracy on our training set\n",
    "p = predict(theta, X)\n",
    "print('\\nTrain Accuracy of model is: {:.2f} %'.format(np.mean(p == y) * 100))\n",
    "\n"
   ]
  },
  {
   "cell_type": "markdown",
   "metadata": {},
   "source": [
    "we can't realy locate expensive or less expensive area\n",
    "just by using distance from city center. to do so we will have to use\n",
    "the listings coordinates, or by changing the \"city center\" to different parts of the city.\n",
    "\n",
    "we can determine that listings who are closer to Dam square have higher\n",
    "probability to be expensive.\n",
    "\n"
   ]
  },
  {
   "cell_type": "code",
   "execution_count": 38,
   "metadata": {
    "pycharm": {
     "name": "#%%\n"
    }
   },
   "outputs": [],
   "source": [
    "X = np.vstack([relevant_data['distance_from_city_center'].values,relevant_data['home/apt'].values]).T\n",
    "# Add intercept term to X\n",
    "X = np.concatenate([np.ones((m, 1)), norm_X], axis=1)\n",
    "y = expensive\n",
    "# Plot Boundary\n",
    "# utils.plotDecisionBoundary(plotData, theta, X, y)"
   ]
  },
  {
   "cell_type": "markdown",
   "source": [
    "## part 6 - Graphic Results"
   ],
   "metadata": {
    "collapsed": false
   }
  },
  {
   "cell_type": "code",
   "execution_count": 39,
   "metadata": {
    "pycharm": {
     "name": "#%%\n"
    }
   },
   "outputs": [],
   "source": [
    "import folium"
   ]
  },
  {
   "cell_type": "code",
   "execution_count": 40,
   "metadata": {
    "pycharm": {
     "name": "#%%\n"
    }
   },
   "outputs": [],
   "source": [
    "a = folium.Map(location=[52.373204, 4.892694])"
   ]
  },
  {
   "cell_type": "code",
   "execution_count": 41,
   "metadata": {
    "pycharm": {
     "name": "#%%\n"
    }
   },
   "outputs": [
    {
     "data": {
      "text/plain": "<folium.map.Marker at 0x2734589fdc8>"
     },
     "execution_count": 41,
     "metadata": {},
     "output_type": "execute_result"
    }
   ],
   "source": [
    "tooltip = 'Click me!'\n",
    "# folium.Circle(\n",
    "#     radius=20,\n",
    "#     location=[52.373204, 4.892694],\n",
    "#     popup='Dam Square',\n",
    "#     color='crimson',\n",
    "#     fill=False,\n",
    "# ).add_to(a)\n",
    "folium.Marker([52.373204, 4.892694], popup='<b>Dam Square</b>', tooltip=tooltip).add_to(a)\n"
   ]
  },
  {
   "cell_type": "code",
   "execution_count": 42,
   "metadata": {},
   "outputs": [],
   "source": [
    "draw_data = relevant_data.sample(frac = 0.1)"
   ]
  },
  {
   "cell_type": "code",
   "execution_count": 43,
   "outputs": [],
   "source": [
    "del relevant_data, x, y, y_test, y_train, values, train_data, geometry, expensive, distance_from_city_center"
   ],
   "metadata": {
    "collapsed": false,
    "pycharm": {
     "name": "#%%\n"
    }
   }
  },
  {
   "cell_type": "code",
   "execution_count": 44,
   "metadata": {
    "pycharm": {
     "name": "#%%\n"
    }
   },
   "outputs": [],
   "source": [
    "# I can add marker one by one on the map\n",
    "for i in range(0,len(draw_data)):\n",
    "    if draw_data.iloc[i]['expensive']:\n",
    "       folium.Circle(\n",
    "          location=[draw_data.iloc[i]['latitude'], draw_data.iloc[i]['longitude']],\n",
    "          popup=draw_data.iloc[i]['name'],\n",
    "          radius=draw_data.iloc[i]['price']/10,\n",
    "          color='crimson',\n",
    "          fill=True,\n",
    "          fill_color='crimson'\n",
    "       ).add_to(a)\n",
    "    else:\n",
    "        folium.Circle(\n",
    "          location=[draw_data.iloc[i]['latitude'], draw_data.iloc[i]['longitude']],\n",
    "          popup=draw_data.iloc[i]['name'],\n",
    "          radius=draw_data.iloc[i]['price']/10,\n",
    "          color='green',\n",
    "          fill=True,\n",
    "          fill_color='crimson'\n",
    "       ).add_to(a)"
   ]
  },
  {
   "cell_type": "markdown",
   "source": [
    "the bigger the circle, the higher the price\n",
    "green circles are cheap listings and red are expensive."
   ],
   "metadata": {
    "collapsed": false,
    "pycharm": {
     "name": "#%% md\n"
    }
   }
  },
  {
   "cell_type": "code",
   "execution_count": null,
   "outputs": [],
   "source": [
    "a"
   ],
   "metadata": {
    "collapsed": false,
    "pycharm": {
     "name": "#%%\n"
    }
   }
  },
  {
   "cell_type": "markdown",
   "source": [
    "### Summary and Conclusions"
   ],
   "metadata": {
    "collapsed": false,
    "pycharm": {
     "name": "#%% md\n"
    }
   }
  },
  {
   "cell_type": "markdown",
   "source": [
    "we had data of 13,850 listings םכ AIRBNB in Amsterdam.\n",
    "from that data we built two models:\n",
    "1. model for predicting price of listing - linear regression\n",
    "2. model for classification if a listing is expensive - logistic regression\n",
    "\n",
    "for the first model we had to analyze the data and pick features\n",
    "that we thought would contribute to the prediction. We chose to use only numeric\n",
    "features to reduce complications, and we decided to use as many numeric features\n",
    "as possible.\n",
    "Success rate of this model is about 78%, when you consider 50$ difference as success.\n",
    "We think it's pretty poor results. we could probably got better results if we used some of the text features.\n",
    "\n",
    "for the second model we had to determine the probability of a listing to be expensive\n",
    "considering it's distance from city center and it's type.\n",
    "Success rate of this model is about 71.5%.\n",
    "Results again are pretty poor. We can determine with some confidence that listings who are closer to city center has higher probability to be expensive.\n",
    "For better classification we have to consider more features."
   ],
   "metadata": {
    "collapsed": false
   }
  }
 ],
 "metadata": {
  "kernelspec": {
   "display_name": "Python 3",
   "language": "python",
   "name": "python3"
  },
  "language_info": {
   "codemirror_mode": {
    "name": "ipython",
    "version": 3
   },
   "file_extension": ".py",
   "mimetype": "text/x-python",
   "name": "python",
   "nbconvert_exporter": "python",
   "pygments_lexer": "ipython3",
   "version": "3.7.4"
  }
 },
 "nbformat": 4,
 "nbformat_minor": 1
}